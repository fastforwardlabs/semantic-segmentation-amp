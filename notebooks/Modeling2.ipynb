{
 "cells": [
  {
   "cell_type": "code",
   "execution_count": 1,
   "metadata": {},
   "outputs": [],
   "source": [
    "import json\n",
    "import cmlapi"
   ]
  },
  {
   "cell_type": "code",
   "execution_count": 2,
   "metadata": {},
   "outputs": [],
   "source": [
    "client = cmlapi.default_client()"
   ]
  },
  {
   "cell_type": "code",
   "execution_count": 3,
   "metadata": {},
   "outputs": [],
   "source": [
    "# get project id\n",
    "projects = client.list_projects(\n",
    "    search_filter = json.dumps({\"name\": \"FF25_AMP_dev\"})\n",
    ")\n",
    "PROJECT_ID = projects.projects[0].id\n"
   ]
  },
  {
   "cell_type": "code",
   "execution_count": 7,
   "metadata": {},
   "outputs": [],
   "source": [
    "# get runtime id\n",
    "py39_gpu_runtimes = client.list_runtimes(search_filter=json.dumps({\n",
    "     \"kernel\": \"Python 3.9\",\n",
    "     \"edition\": \"Nvidia GPU\",\n",
    "    \"editor\" : \"Workbench\",\n",
    "    \"version\": \"2022.04\",\n",
    "    \"image_identifier\": \"docker.repository.cloudera.com/cloudera/cdsw/ml-runtime-workbench-python3.9-cuda:2022.04.1-b6\"\n",
    "}))\n",
    "\n",
    "RUNTIME_ID = py39_gpu_runtimes.runtimes[0].image_identifier"
   ]
  },
  {
   "cell_type": "code",
   "execution_count": 17,
   "metadata": {},
   "outputs": [],
   "source": [
    "# create job\n",
    "job_body = cmlapi.CreateJobRequest(\n",
    "    project_id = PROJECT_ID,\n",
    "    name = \"Sample Weights Experiment\",\n",
    "    script = \"scripts/run_train.py\",\n",
    "    runtime_identifier = RUNTIME_ID,\n",
    "    cpu=4.0,\n",
    "    memory=8.0,\n",
    "    nvidia_gpu=1,\n",
    "    arguments=\"TESTARGs\"\n",
    "    # recipients=[cmlapi.JobRecipient(email=\"areed@cloudera.com\", notify_on_success=True, notify_on_failure=True)]\n",
    ")\n",
    "\n",
    "# Create this job within the project specified by the project_id parameter.\n",
    "job = client.create_job(job_body, PROJECT_ID)"
   ]
  },
  {
   "cell_type": "code",
   "execution_count": null,
   "metadata": {},
   "outputs": [],
   "source": [
    "# create job run\n",
    "jobrun_body = cmlapi.CreateJobRunRequest(project_id=PROJECT_ID, job_id=job.id)\n",
    "job_run = client.create_job_run(body=jobrun_body, project_id=PROJECT_ID, job_id=job.id)\n",
    "run_id = job_run.id"
   ]
  },
  {
   "cell_type": "code",
   "execution_count": 19,
   "metadata": {},
   "outputs": [
    {
     "data": {
      "text/plain": [
       "[{'sample_weight_strategy': 'ens',\n",
       "  'sample_weight_ens_beta': 0.99,\n",
       "  'sample_weights': False},\n",
       " {'sample_weight_strategy': 'ens',\n",
       "  'sample_weight_ens_beta': 0.99,\n",
       "  'sample_weights': True},\n",
       " {'sample_weight_strategy': 'ens',\n",
       "  'sample_weight_ens_beta': 0.999,\n",
       "  'sample_weights': True},\n",
       " {'sample_weight_strategy': 'ens',\n",
       "  'sample_weight_ens_beta': 0.9999,\n",
       "  'sample_weights': True},\n",
       " {'sample_weight_strategy': 'ip',\n",
       "  'sample_weight_ens_beta': 0,\n",
       "  'sample_weights': True}]"
      ]
     },
     "execution_count": 19,
     "metadata": {},
     "output_type": "execute_result"
    }
   ],
   "source": [
    "[{\"sample_weight_strategy\": \"ens\",\n",
    "        \"sample_weight_ens_beta\": 0.99,\n",
    "        \"sample_weights\": False},\n",
    "        {\"sample_weight_strategy\": \"ens\",\n",
    "        \"sample_weight_ens_beta\": 0.99,\n",
    "        \"sample_weights\": True},\n",
    "        {\"sample_weight_strategy\": \"ens\",\n",
    "        \"sample_weight_ens_beta\": 0.999,\n",
    "        \"sample_weights\": True},\n",
    "        {\"sample_weight_strategy\": \"ens\",\n",
    "        \"sample_weight_ens_beta\": 0.9999,\n",
    "        \"sample_weights\": True},\n",
    "        {\"sample_weight_strategy\": \"ip\",\n",
    "        \"sample_weight_ens_beta\": 0 ,\n",
    "        \"sample_weights\": True}]"
   ]
  },
  {
   "cell_type": "code",
   "execution_count": null,
   "metadata": {},
   "outputs": [],
   "source": []
  },
  {
   "cell_type": "code",
   "execution_count": null,
   "metadata": {},
   "outputs": [],
   "source": []
  },
  {
   "cell_type": "code",
   "execution_count": 15,
   "metadata": {},
   "outputs": [
    {
     "data": {
      "text/plain": [
       "{'arguments': '',\n",
       " 'cpu': 4.0,\n",
       " 'created_at': datetime.datetime(2022, 10, 21, 20, 31, 28, 644962, tzinfo=tzlocal()),\n",
       " 'creator': {'email': 'areed@cloudera.com',\n",
       "             'name': 'Andrew Reed',\n",
       "             'username': 'areed'},\n",
       " 'engine_image_id': '0',\n",
       " 'english_schedule': '',\n",
       " 'environment': '',\n",
       " 'id': 'qz0z-fkb0-1009-yj12',\n",
       " 'kernel': '',\n",
       " 'memory': 8.0,\n",
       " 'name': 'Sample Weights Experiment',\n",
       " 'nvidia_gpu': 1,\n",
       " 'parent_id': '',\n",
       " 'paused': False,\n",
       " 'runtime_identifier': 'docker.repository.cloudera.com/cloudera/cdsw/ml-runtime-workbench-python3.9-cuda:2022.04.1-b6',\n",
       " 'schedule': '',\n",
       " 'script': 'scripts/run_train.py',\n",
       " 'timeout': '0',\n",
       " 'timezone': 'America/Los_Angeles',\n",
       " 'type': 'manual',\n",
       " 'updated_at': datetime.datetime(2022, 10, 21, 20, 40, 44, 357044, tzinfo=tzlocal())}"
      ]
     },
     "execution_count": 15,
     "metadata": {},
     "output_type": "execute_result"
    }
   ],
   "source": [
    "# update_body = cmlapi.Job(arguments=\"TEST ARGS\")\n",
    "\n",
    "# client.update_job(body=update_body,project_id=PROJECT_ID, job_id=job.id)"
   ]
  },
  {
   "cell_type": "code",
   "execution_count": null,
   "metadata": {},
   "outputs": [],
   "source": []
  }
 ],
 "metadata": {
  "kernelspec": {
   "display_name": "Python 3.9.11 64-bit",
   "language": "python",
   "name": "python3"
  },
  "language_info": {
   "codemirror_mode": {
    "name": "ipython",
    "version": 3
   },
   "file_extension": ".py",
   "mimetype": "text/x-python",
   "name": "python",
   "nbconvert_exporter": "python",
   "pygments_lexer": "ipython3",
   "version": "3.9.11"
  },
  "orig_nbformat": 4,
  "vscode": {
   "interpreter": {
    "hash": "949777d72b0d2535278d3dc13498b2535136f6dfe0678499012e853ee9abcab1"
   }
  }
 },
 "nbformat": 4,
 "nbformat_minor": 2
}
