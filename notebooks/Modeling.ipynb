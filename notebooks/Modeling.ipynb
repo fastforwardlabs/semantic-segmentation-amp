{
 "cells": [
  {
   "cell_type": "markdown",
   "id": "2871e609-ca2e-4f61-a0ef-46c2ff0d96ca",
   "metadata": {},
   "source": [
    "# Modeling"
   ]
  },
  {
   "cell_type": "code",
   "execution_count": 1,
   "id": "5dfe0868-7785-4d05-b39a-813bd8beaa0f",
   "metadata": {},
   "outputs": [
    {
     "name": "stderr",
     "output_type": "stream",
     "text": [
      "2022-10-19 17:54:42.105723: E tensorflow/stream_executor/cuda/cuda_blas.cc:2981] Unable to register cuBLAS factory: Attempting to register factory for plugin cuBLAS when one has already been registered\n",
      "2022-10-19 17:54:45.817895: W tensorflow/stream_executor/platform/default/dso_loader.cc:64] Could not load dynamic library 'libnvinfer.so.7'; dlerror: libnvinfer.so.7: cannot open shared object file: No such file or directory; LD_LIBRARY_PATH: /usr/lib/x86_64-linux-gnu:/usr/local/nvidia/lib64:/usr/local/cuda/lib64:/usr/local/nvidia/lib:/usr/local/cuda/lib::/usr/lib/hadoop/lib/native\n",
      "2022-10-19 17:54:45.818275: W tensorflow/stream_executor/platform/default/dso_loader.cc:64] Could not load dynamic library 'libnvinfer_plugin.so.7'; dlerror: libnvinfer_plugin.so.7: cannot open shared object file: No such file or directory; LD_LIBRARY_PATH: /usr/lib/x86_64-linux-gnu:/usr/local/nvidia/lib64:/usr/local/cuda/lib64:/usr/local/nvidia/lib:/usr/local/cuda/lib::/usr/lib/hadoop/lib/native\n",
      "2022-10-19 17:54:45.818305: W tensorflow/compiler/tf2tensorrt/utils/py_utils.cc:38] TF-TRT Warning: Cannot dlopen some TensorRT libraries. If you would like to use Nvidia GPU with TensorRT, please make sure the missing libraries mentioned above are installed properly.\n"
     ]
    }
   ],
   "source": [
    "import os\n",
    "import datetime\n",
    "\n",
    "import numpy as np\n",
    "import tensorflow as tf\n",
    "from tensorflow.keras import layers\n",
    "from numba import cuda\n",
    "\n",
    "from src.model import unet_model\n",
    "from src.dataset import SegmentationDataset\n",
    "from src.data_pipeline import SegmentationDataPipeline\n",
    "from src.model_utils import (\n",
    "    CustomTensorBoard,\n",
    "    dice_coeff,\n",
    "    dice_loss,\n",
    "    dice_loss_old,\n",
    "    dice_coeff_old,\n",
    "    bce_dice_loss,\n",
    "    tversky,\n",
    "    tversky_loss,\n",
    "    tversky_axis,\n",
    "    tversky_loss_axis,\n",
    "    focal_tversky_loss,\n",
    "    evaluate_per_class_dice,\n",
    ")\n",
    "\n",
    "\n",
    "%load_ext lab_black\n",
    "%load_ext autoreload\n",
    "%autoreload 2"
   ]
  },
  {
   "cell_type": "markdown",
   "id": "7a21e2d6-a452-484c-ad76-73c0ab283e3c",
   "metadata": {
    "tags": []
   },
   "source": [
    "## Load data and create pipeline"
   ]
  },
  {
   "cell_type": "code",
   "execution_count": 2,
   "id": "eb068c4a-7626-4578-b12c-60e9fc8f4aa4",
   "metadata": {
    "tags": []
   },
   "outputs": [
    {
     "name": "stdout",
     "output_type": "stream",
     "text": [
      "CLASS MAP: {-2: 4.905542544886807, -1: 0.3549079408110245, 1: 2.7238838318162117, 2: 10.741880341880341, 3: 0.44014849057925337, 4: 4.059431524547803}\n"
     ]
    },
    {
     "name": "stderr",
     "output_type": "stream",
     "text": [
      "2022-10-19 17:55:27.396552: I tensorflow/stream_executor/cuda/cuda_gpu_executor.cc:980] successful NUMA node read from SysFS had negative value (-1), but there must be at least one NUMA node, so returning NUMA node zero\n",
      "2022-10-19 17:55:27.560555: I tensorflow/stream_executor/cuda/cuda_gpu_executor.cc:980] successful NUMA node read from SysFS had negative value (-1), but there must be at least one NUMA node, so returning NUMA node zero\n",
      "2022-10-19 17:55:27.563554: I tensorflow/stream_executor/cuda/cuda_gpu_executor.cc:980] successful NUMA node read from SysFS had negative value (-1), but there must be at least one NUMA node, so returning NUMA node zero\n",
      "2022-10-19 17:55:27.570145: I tensorflow/stream_executor/cuda/cuda_gpu_executor.cc:980] successful NUMA node read from SysFS had negative value (-1), but there must be at least one NUMA node, so returning NUMA node zero\n",
      "2022-10-19 17:55:27.572044: I tensorflow/stream_executor/cuda/cuda_gpu_executor.cc:980] successful NUMA node read from SysFS had negative value (-1), but there must be at least one NUMA node, so returning NUMA node zero\n",
      "2022-10-19 17:55:27.573861: I tensorflow/stream_executor/cuda/cuda_gpu_executor.cc:980] successful NUMA node read from SysFS had negative value (-1), but there must be at least one NUMA node, so returning NUMA node zero\n",
      "2022-10-19 17:55:29.179084: I tensorflow/stream_executor/cuda/cuda_gpu_executor.cc:980] successful NUMA node read from SysFS had negative value (-1), but there must be at least one NUMA node, so returning NUMA node zero\n",
      "2022-10-19 17:55:29.182200: I tensorflow/stream_executor/cuda/cuda_gpu_executor.cc:980] successful NUMA node read from SysFS had negative value (-1), but there must be at least one NUMA node, so returning NUMA node zero\n",
      "2022-10-19 17:55:29.185043: I tensorflow/stream_executor/cuda/cuda_gpu_executor.cc:980] successful NUMA node read from SysFS had negative value (-1), but there must be at least one NUMA node, so returning NUMA node zero\n",
      "2022-10-19 17:55:29.187164: I tensorflow/core/common_runtime/gpu/gpu_device.cc:1616] Created device /job:localhost/replica:0/task:0/device:GPU:0 with 30975 MB memory:  -> device: 0, name: Tesla V100-PCIE-32GB, pci bus id: 0000:00:09.0, compute capability: 7.0\n"
     ]
    },
    {
     "name": "stdout",
     "output_type": "stream",
     "text": [
      "AUGMENTING!!\n",
      "Batching\n",
      "Batching\n"
     ]
    }
   ],
   "source": [
    "IMG_SHAPE = (256, 1600)\n",
    "EPOCHS = 10\n",
    "BATCH_SIZE = 8\n",
    "ANNOTATIONS_PATH = \"../data/train.csv\"\n",
    "TRAIN_IMG_PATH = \"../data/train_images/\"\n",
    "LOSSES = {\n",
    "    \"dice_loss_old\": dice_loss_old,\n",
    "    \"dice_loss\": dice_loss,\n",
    "    \"bce_dice_loss\": bce_dice_loss,\n",
    "    \"tversky_loss\": tversky_loss,\n",
    "    \"tversky_loss_axis\": tversky_loss_axis,\n",
    "    \"focal_tversky_loss\": focal_tversky_loss,\n",
    "}\n",
    "METRICS = {\n",
    "    \"dice_coeff_old\": dice_coeff_old,\n",
    "    \"dice_coeff\": dice_coeff,\n",
    "    \"tversky\": tversky,\n",
    "    \"tversky_axis\": tversky_axis,\n",
    "}\n",
    "LOG_DIR = (\n",
    "    f'../logs/test-SAMPLEWEIGHTS-{datetime.datetime.now().strftime(\"%Y%m%d-%H%M%S\")}'\n",
    ")\n",
    "\n",
    "# instantiate dataset and pipelne\n",
    "sd = SegmentationDataset(\n",
    "    label_file=ANNOTATIONS_PATH,\n",
    "    img_dir_path=TRAIN_IMG_PATH,\n",
    "    img_shape=IMG_SHAPE,\n",
    ")\n",
    "\n",
    "# create train/test & x/y splits\n",
    "train_imgs, test_imgs = sd.get_train_test_split(test_size=0.2)\n",
    "\n",
    "# small sample\n",
    "train_imgs = train_imgs[:100]\n",
    "test_imgs = test_imgs[:20]\n",
    "\n",
    "X_train = sd.get_image_sequence(train_imgs)\n",
    "y_train = sd.get_label_sequence(train_imgs, label_type=\"preprocessed\")\n",
    "X_test = sd.get_image_sequence(test_imgs)\n",
    "y_test = sd.get_label_sequence(test_imgs, label_type=\"preprocessed\")\n",
    "\n",
    "\n",
    "# create dataset pipelines\n",
    "sdp = SegmentationDataPipeline(\n",
    "    img_shape=IMG_SHAPE,\n",
    "    label_type=\"preprocessed\",\n",
    "    pipeline_options={\n",
    "        \"map_parallel\": None,\n",
    "        \"cache\": False,\n",
    "        \"shuffle_buffer_size\": False,\n",
    "        \"batch_size\": BATCH_SIZE,\n",
    "        \"prefetch\": False,\n",
    "    },\n",
    ")\n",
    "\n",
    "# train_dataset = sdp(X_train, y_train, is_train=True)\n",
    "train_sample_weights = sd.get_sample_weight_sequence(train_imgs)\n",
    "# train_dataset = sdp(\n",
    "#     X_train, y_train, is_train=True, sample_weights=train_sample_weights\n",
    "# )\n",
    "train_dataset = sdp(X_train, y_train, is_train=True)\n",
    "test_dataset = sdp(X_test, y_test, is_train=False)"
   ]
  },
  {
   "cell_type": "code",
   "execution_count": 3,
   "id": "c045d21e",
   "metadata": {},
   "outputs": [
    {
     "data": {
      "text/plain": [
       "((8, 256, 1600, 3), (8, 256, 1600, 5))"
      ]
     },
     "execution_count": 3,
     "metadata": {},
     "output_type": "execute_result"
    }
   ],
   "source": [
    "# train_dataset_pp = sdp(X_train, y_train, is_train=True)\n",
    "sample_pp = list(train_dataset.take(1).as_numpy_iterator())\n",
    "sample_pp[0][0].shape, sample_pp[0][1].shape,  # sample_pp[0][2].shape"
   ]
  },
  {
   "cell_type": "code",
   "execution_count": 4,
   "id": "7ac72bc5",
   "metadata": {},
   "outputs": [
    {
     "ename": "IndexError",
     "evalue": "tuple index out of range",
     "output_type": "error",
     "traceback": [
      "\u001b[0;31m---------------------------------------------------------------------------\u001b[0m",
      "\u001b[0;31mIndexError\u001b[0m                                Traceback (most recent call last)",
      "\u001b[0;32m/tmp/ipykernel_7252/4058057775.py\u001b[0m in \u001b[0;36m<module>\u001b[0;34m\u001b[0m\n\u001b[0;32m----> 1\u001b[0;31m \u001b[0msample_pp\u001b[0m\u001b[0;34m[\u001b[0m\u001b[0;36m0\u001b[0m\u001b[0;34m]\u001b[0m\u001b[0;34m[\u001b[0m\u001b[0;36m2\u001b[0m\u001b[0;34m]\u001b[0m\u001b[0;34m.\u001b[0m\u001b[0mshape\u001b[0m\u001b[0;34m\u001b[0m\u001b[0;34m\u001b[0m\u001b[0m\n\u001b[0m",
      "\u001b[0;31mIndexError\u001b[0m: tuple index out of range"
     ]
    }
   ],
   "source": [
    "sample_pp[0][2].shape"
   ]
  },
  {
   "cell_type": "markdown",
   "id": "ee3cc1ac-5f06-4ccc-b848-4f071aa72650",
   "metadata": {},
   "source": [
    "## Define Model "
   ]
  },
  {
   "cell_type": "code",
   "execution_count": 5,
   "id": "9020b813-7b6e-4508-a2af-91de01e1ab6a",
   "metadata": {},
   "outputs": [],
   "source": [
    "EPOCHS = 150\n",
    "# LOG_DIR = f'../logs/test-SAMPLEWEIGHTS_OLD_DICE_LOSS_CORRECTED_AXIS-{datetime.datetime.now().strftime(\"%Y%m%d-%H%M%S\")}'\n",
    "LOG_DIR = f'../logs/WITHOUT-SAMPLEWEIGHTS-SMALLSAMPLESIZE-150_TVERSKY_LOSS_AXIS-{datetime.datetime.now().strftime(\"%Y%m%d-%H%M%S\")}'\n",
    "\n",
    "# build model\n",
    "unet = unet_model(IMG_SHAPE, n_channels_bottleneck=512 / 4)\n",
    "\n",
    "unet.compile(\n",
    "    optimizer=tf.keras.optimizers.Adam(learning_rate=0.01),\n",
    "    # loss=LOSSES[\"tversky_loss\"],\n",
    "    loss=LOSSES[\"tversky_loss_axis\"],\n",
    "    # loss=LOSSES[\"dice_loss\"],\n",
    "    # loss=dice_loss_old_class(),\n",
    "    metrics=[dice_coeff, tversky, tversky_axis],\n",
    ")\n",
    "\n",
    "callbacks = [\n",
    "    tf.keras.callbacks.ModelCheckpoint(\n",
    "        os.path.join(LOG_DIR, \"best_model.h5\"), save_best_only=True\n",
    "    ),\n",
    "    tf.keras.callbacks.TensorBoard(log_dir=LOG_DIR, histogram_freq=1),\n",
    "]"
   ]
  },
  {
   "cell_type": "code",
   "execution_count": 6,
   "id": "635b9790",
   "metadata": {},
   "outputs": [
    {
     "name": "stdout",
     "output_type": "stream",
     "text": [
      "Epoch 1/150\n"
     ]
    },
    {
     "name": "stderr",
     "output_type": "stream",
     "text": [
      "2022-10-19 17:56:48.385847: I tensorflow/stream_executor/cuda/cuda_dnn.cc:384] Loaded cuDNN version 8202\n",
      "2022-10-19 17:56:49.255524: I tensorflow/core/platform/default/subprocess.cc:304] Start cannot spawn child process: No such file or directory\n",
      "2022-10-19 17:56:49.256611: I tensorflow/core/platform/default/subprocess.cc:304] Start cannot spawn child process: No such file or directory\n",
      "2022-10-19 17:56:49.256642: W tensorflow/stream_executor/gpu/asm_compiler.cc:80] Couldn't get ptxas version string: INTERNAL: Couldn't invoke ptxas --version\n",
      "2022-10-19 17:56:49.258079: I tensorflow/core/platform/default/subprocess.cc:304] Start cannot spawn child process: No such file or directory\n",
      "2022-10-19 17:56:49.258155: W tensorflow/stream_executor/gpu/redzone_allocator.cc:314] INTERNAL: Failed to launch ptxas\n",
      "Relying on driver to perform ptx compilation. \n",
      "Modify $PATH to customize ptxas location.\n",
      "This message will be only logged once.\n"
     ]
    },
    {
     "name": "stdout",
     "output_type": "stream",
     "text": [
      "13/13 - 17s - loss: 0.9789 - dice_coeff: 0.0156 - tversky: 0.0246 - tversky_axis: 0.0211 - val_loss: 0.9603 - val_dice_coeff: 0.0235 - val_tversky: 0.0375 - val_tversky_axis: 0.0397 - 17s/epoch - 1s/step\n",
      "Epoch 2/150\n",
      "13/13 - 6s - loss: 0.9526 - dice_coeff: 0.0350 - tversky: 0.0550 - tversky_axis: 0.0474 - val_loss: 0.9600 - val_dice_coeff: 0.0256 - val_tversky: 0.0406 - val_tversky_axis: 0.0400 - 6s/epoch - 448ms/step\n",
      "Epoch 3/150\n",
      "13/13 - 6s - loss: 0.9284 - dice_coeff: 0.0544 - tversky: 0.0843 - tversky_axis: 0.0716 - val_loss: 0.9618 - val_dice_coeff: 0.0224 - val_tversky: 0.0355 - val_tversky_axis: 0.0382 - 6s/epoch - 466ms/step\n",
      "Epoch 4/150\n",
      "13/13 - 6s - loss: 0.8924 - dice_coeff: 0.0767 - tversky: 0.1151 - tversky_axis: 0.1076 - val_loss: 0.9459 - val_dice_coeff: 0.0354 - val_tversky: 0.0512 - val_tversky_axis: 0.0541 - 6s/epoch - 470ms/step\n",
      "Epoch 5/150\n",
      "13/13 - 5s - loss: 0.8637 - dice_coeff: 0.1165 - tversky: 0.1643 - tversky_axis: 0.1363 - val_loss: 0.9603 - val_dice_coeff: 0.0235 - val_tversky: 0.0374 - val_tversky_axis: 0.0397 - 5s/epoch - 408ms/step\n",
      "Epoch 6/150\n",
      "13/13 - 5s - loss: 0.8351 - dice_coeff: 0.1638 - tversky: 0.2121 - tversky_axis: 0.1649 - val_loss: 0.9592 - val_dice_coeff: 0.0253 - val_tversky: 0.0401 - val_tversky_axis: 0.0408 - 5s/epoch - 406ms/step\n",
      "Epoch 7/150\n",
      "13/13 - 5s - loss: 0.8172 - dice_coeff: 0.1578 - tversky: 0.2118 - tversky_axis: 0.1828 - val_loss: 0.9564 - val_dice_coeff: 0.0256 - val_tversky: 0.0405 - val_tversky_axis: 0.0436 - 5s/epoch - 415ms/step\n",
      "Epoch 8/150\n",
      "13/13 - 5s - loss: 0.8162 - dice_coeff: 0.1778 - tversky: 0.2275 - tversky_axis: 0.1838 - val_loss: 0.9482 - val_dice_coeff: 0.0307 - val_tversky: 0.0475 - val_tversky_axis: 0.0518 - 5s/epoch - 393ms/step\n",
      "Epoch 9/150\n",
      "13/13 - 5s - loss: 0.8114 - dice_coeff: 0.1761 - tversky: 0.2307 - tversky_axis: 0.1886 - val_loss: 0.9576 - val_dice_coeff: 0.0252 - val_tversky: 0.0402 - val_tversky_axis: 0.0424 - 5s/epoch - 408ms/step\n",
      "Epoch 10/150\n",
      "13/13 - 5s - loss: 0.8078 - dice_coeff: 0.1950 - tversky: 0.2442 - tversky_axis: 0.1922 - val_loss: 0.9597 - val_dice_coeff: 0.0243 - val_tversky: 0.0386 - val_tversky_axis: 0.0403 - 5s/epoch - 398ms/step\n",
      "Epoch 11/150\n",
      "13/13 - 6s - loss: 0.8042 - dice_coeff: 0.2032 - tversky: 0.2566 - tversky_axis: 0.1958 - val_loss: 0.8798 - val_dice_coeff: 0.0529 - val_tversky: 0.0735 - val_tversky_axis: 0.1202 - 6s/epoch - 438ms/step\n",
      "Epoch 12/150\n",
      "13/13 - 5s - loss: 0.8052 - dice_coeff: 0.1842 - tversky: 0.2373 - tversky_axis: 0.1948 - val_loss: 0.9512 - val_dice_coeff: 0.0286 - val_tversky: 0.0444 - val_tversky_axis: 0.0488 - 5s/epoch - 402ms/step\n",
      "Epoch 13/150\n",
      "13/13 - 5s - loss: 0.7975 - dice_coeff: 0.2087 - tversky: 0.2598 - tversky_axis: 0.2025 - val_loss: 0.8916 - val_dice_coeff: 0.1414 - val_tversky: 0.1604 - val_tversky_axis: 0.1084 - 5s/epoch - 399ms/step\n",
      "Epoch 14/150\n",
      "13/13 - 6s - loss: 0.8013 - dice_coeff: 0.1948 - tversky: 0.2477 - tversky_axis: 0.1987 - val_loss: 0.8420 - val_dice_coeff: 0.1524 - val_tversky: 0.1990 - val_tversky_axis: 0.1580 - 6s/epoch - 435ms/step\n",
      "Epoch 15/150\n",
      "13/13 - 5s - loss: 0.7958 - dice_coeff: 0.2141 - tversky: 0.2680 - tversky_axis: 0.2042 - val_loss: 0.8473 - val_dice_coeff: 0.1730 - val_tversky: 0.2152 - val_tversky_axis: 0.1527 - 5s/epoch - 394ms/step\n",
      "Epoch 16/150\n",
      "13/13 - 5s - loss: 0.7896 - dice_coeff: 0.2283 - tversky: 0.2820 - tversky_axis: 0.2104 - val_loss: 0.9111 - val_dice_coeff: 0.0827 - val_tversky: 0.0941 - val_tversky_axis: 0.0889 - 5s/epoch - 385ms/step\n",
      "Epoch 17/150\n",
      "13/13 - 5s - loss: 0.8195 - dice_coeff: 0.1753 - tversky: 0.2239 - tversky_axis: 0.1805 - val_loss: 0.9256 - val_dice_coeff: 0.0426 - val_tversky: 0.0607 - val_tversky_axis: 0.0744 - 5s/epoch - 403ms/step\n",
      "Epoch 18/150\n",
      "13/13 - 5s - loss: 0.8159 - dice_coeff: 0.1789 - tversky: 0.2315 - tversky_axis: 0.1841 - val_loss: 0.8901 - val_dice_coeff: 0.0999 - val_tversky: 0.1301 - val_tversky_axis: 0.1099 - 5s/epoch - 402ms/step\n",
      "Epoch 19/150\n",
      "13/13 - 5s - loss: 0.8095 - dice_coeff: 0.1802 - tversky: 0.2357 - tversky_axis: 0.1905 - val_loss: 0.8681 - val_dice_coeff: 0.1400 - val_tversky: 0.1847 - val_tversky_axis: 0.1319 - 5s/epoch - 395ms/step\n",
      "Epoch 20/150\n",
      "13/13 - 5s - loss: 0.7983 - dice_coeff: 0.1972 - tversky: 0.2525 - tversky_axis: 0.2017 - val_loss: 0.8525 - val_dice_coeff: 0.1441 - val_tversky: 0.1945 - val_tversky_axis: 0.1475 - 5s/epoch - 396ms/step\n",
      "Epoch 21/150\n",
      "13/13 - 5s - loss: 0.7877 - dice_coeff: 0.2112 - tversky: 0.2660 - tversky_axis: 0.2123 - val_loss: 0.8635 - val_dice_coeff: 0.1405 - val_tversky: 0.1921 - val_tversky_axis: 0.1365 - 5s/epoch - 388ms/step\n",
      "Epoch 22/150\n",
      "13/13 - 6s - loss: 0.7918 - dice_coeff: 0.2198 - tversky: 0.2730 - tversky_axis: 0.2082 - val_loss: 0.8335 - val_dice_coeff: 0.1961 - val_tversky: 0.2478 - val_tversky_axis: 0.1665 - 6s/epoch - 432ms/step\n",
      "Epoch 23/150\n",
      "13/13 - 5s - loss: 0.7881 - dice_coeff: 0.2186 - tversky: 0.2728 - tversky_axis: 0.2119 - val_loss: 0.8575 - val_dice_coeff: 0.1590 - val_tversky: 0.2036 - val_tversky_axis: 0.1425 - 5s/epoch - 406ms/step\n",
      "Epoch 24/150\n",
      "13/13 - 5s - loss: 0.7900 - dice_coeff: 0.2155 - tversky: 0.2691 - tversky_axis: 0.2100 - val_loss: 0.9114 - val_dice_coeff: 0.0714 - val_tversky: 0.0704 - val_tversky_axis: 0.0886 - 5s/epoch - 400ms/step\n",
      "Epoch 25/150\n",
      "13/13 - 5s - loss: 0.7944 - dice_coeff: 0.2022 - tversky: 0.2567 - tversky_axis: 0.2056 - val_loss: 0.8361 - val_dice_coeff: 0.2215 - val_tversky: 0.2485 - val_tversky_axis: 0.1639 - 5s/epoch - 405ms/step\n",
      "Epoch 26/150\n",
      "13/13 - 5s - loss: 0.7877 - dice_coeff: 0.2151 - tversky: 0.2666 - tversky_axis: 0.2123 - val_loss: 0.8982 - val_dice_coeff: 0.0864 - val_tversky: 0.1054 - val_tversky_axis: 0.1018 - 5s/epoch - 389ms/step\n",
      "Epoch 27/150\n",
      "13/13 - 5s - loss: 0.7936 - dice_coeff: 0.2149 - tversky: 0.2707 - tversky_axis: 0.2064 - val_loss: 0.8527 - val_dice_coeff: 0.1668 - val_tversky: 0.1957 - val_tversky_axis: 0.1473 - 5s/epoch - 394ms/step\n",
      "Epoch 28/150\n",
      "13/13 - 5s - loss: 0.7824 - dice_coeff: 0.2268 - tversky: 0.2804 - tversky_axis: 0.2176 - val_loss: 0.8455 - val_dice_coeff: 0.1620 - val_tversky: 0.1951 - val_tversky_axis: 0.1545 - 5s/epoch - 400ms/step\n",
      "Epoch 29/150\n",
      "13/13 - 5s - loss: 0.7827 - dice_coeff: 0.2334 - tversky: 0.2887 - tversky_axis: 0.2173 - val_loss: 0.8633 - val_dice_coeff: 0.1869 - val_tversky: 0.1915 - val_tversky_axis: 0.1367 - 5s/epoch - 397ms/step\n",
      "Epoch 30/150\n",
      "13/13 - 5s - loss: 0.7791 - dice_coeff: 0.2374 - tversky: 0.2901 - tversky_axis: 0.2209 - val_loss: 0.8993 - val_dice_coeff: 0.1452 - val_tversky: 0.1387 - val_tversky_axis: 0.1007 - 5s/epoch - 403ms/step\n",
      "Epoch 31/150\n",
      "13/13 - 5s - loss: 0.7920 - dice_coeff: 0.2142 - tversky: 0.2620 - tversky_axis: 0.2080 - val_loss: 0.9087 - val_dice_coeff: 0.0769 - val_tversky: 0.1017 - val_tversky_axis: 0.0913 - 5s/epoch - 405ms/step\n",
      "Epoch 32/150\n",
      "13/13 - 5s - loss: 0.7894 - dice_coeff: 0.2198 - tversky: 0.2709 - tversky_axis: 0.2106 - val_loss: 0.9344 - val_dice_coeff: 0.0552 - val_tversky: 0.0720 - val_tversky_axis: 0.0656 - 5s/epoch - 394ms/step\n",
      "Epoch 33/150\n",
      "13/13 - 5s - loss: 0.7857 - dice_coeff: 0.2238 - tversky: 0.2750 - tversky_axis: 0.2143 - val_loss: 0.8038 - val_dice_coeff: 0.2263 - val_tversky: 0.2571 - val_tversky_axis: 0.1962 - 5s/epoch - 418ms/step\n",
      "Epoch 34/150\n",
      "13/13 - 5s - loss: 0.7811 - dice_coeff: 0.2385 - tversky: 0.2880 - tversky_axis: 0.2189 - val_loss: 0.8422 - val_dice_coeff: 0.2156 - val_tversky: 0.2256 - val_tversky_axis: 0.1578 - 5s/epoch - 389ms/step\n",
      "Epoch 35/150\n",
      "13/13 - 5s - loss: 0.7798 - dice_coeff: 0.2331 - tversky: 0.2901 - tversky_axis: 0.2202 - val_loss: 0.7906 - val_dice_coeff: 0.1951 - val_tversky: 0.2288 - val_tversky_axis: 0.2094 - 5s/epoch - 417ms/step\n",
      "Epoch 36/150\n",
      "13/13 - 5s - loss: 0.7810 - dice_coeff: 0.2374 - tversky: 0.2887 - tversky_axis: 0.2190 - val_loss: 0.8174 - val_dice_coeff: 0.1804 - val_tversky: 0.2273 - val_tversky_axis: 0.1826 - 5s/epoch - 400ms/step\n",
      "Epoch 37/150\n",
      "13/13 - 5s - loss: 0.7722 - dice_coeff: 0.2442 - tversky: 0.2974 - tversky_axis: 0.2279 - val_loss: 0.8334 - val_dice_coeff: 0.2147 - val_tversky: 0.2284 - val_tversky_axis: 0.1666 - 5s/epoch - 401ms/step\n",
      "Epoch 38/150\n",
      "13/13 - 5s - loss: 0.7744 - dice_coeff: 0.2284 - tversky: 0.2822 - tversky_axis: 0.2256 - val_loss: 0.7981 - val_dice_coeff: 0.2513 - val_tversky: 0.2798 - val_tversky_axis: 0.2019 - 5s/epoch - 389ms/step\n",
      "Epoch 39/150\n",
      "13/13 - 5s - loss: 0.7884 - dice_coeff: 0.2436 - tversky: 0.2922 - tversky_axis: 0.2116 - val_loss: 0.8398 - val_dice_coeff: 0.1731 - val_tversky: 0.2216 - val_tversky_axis: 0.1602 - 5s/epoch - 398ms/step\n",
      "Epoch 40/150\n",
      "13/13 - 5s - loss: 0.7745 - dice_coeff: 0.2278 - tversky: 0.2823 - tversky_axis: 0.2255 - val_loss: 0.8431 - val_dice_coeff: 0.2298 - val_tversky: 0.2617 - val_tversky_axis: 0.1569 - 5s/epoch - 397ms/step\n",
      "Epoch 41/150\n",
      "13/13 - 5s - loss: 0.7792 - dice_coeff: 0.2451 - tversky: 0.2955 - tversky_axis: 0.2208 - val_loss: 0.8648 - val_dice_coeff: 0.1473 - val_tversky: 0.1855 - val_tversky_axis: 0.1352 - 5s/epoch - 398ms/step\n",
      "Epoch 42/150\n",
      "13/13 - 5s - loss: 0.7664 - dice_coeff: 0.2492 - tversky: 0.3002 - tversky_axis: 0.2336 - val_loss: 0.8102 - val_dice_coeff: 0.2292 - val_tversky: 0.2641 - val_tversky_axis: 0.1898 - 5s/epoch - 394ms/step\n",
      "Epoch 43/150\n",
      "13/13 - 5s - loss: 0.7701 - dice_coeff: 0.2574 - tversky: 0.3108 - tversky_axis: 0.2299 - val_loss: 0.8176 - val_dice_coeff: 0.2361 - val_tversky: 0.2541 - val_tversky_axis: 0.1824 - 5s/epoch - 399ms/step\n",
      "Epoch 44/150\n",
      "13/13 - 5s - loss: 0.7622 - dice_coeff: 0.2543 - tversky: 0.3043 - tversky_axis: 0.2378 - val_loss: 0.8419 - val_dice_coeff: 0.2405 - val_tversky: 0.2526 - val_tversky_axis: 0.1581 - 5s/epoch - 388ms/step\n",
      "Epoch 45/150\n",
      "13/13 - 5s - loss: 0.7691 - dice_coeff: 0.2520 - tversky: 0.3038 - tversky_axis: 0.2309 - val_loss: 0.8234 - val_dice_coeff: 0.1897 - val_tversky: 0.2324 - val_tversky_axis: 0.1766 - 5s/epoch - 398ms/step\n",
      "Epoch 46/150\n",
      "13/13 - 5s - loss: 0.7746 - dice_coeff: 0.2270 - tversky: 0.2826 - tversky_axis: 0.2254 - val_loss: 0.7962 - val_dice_coeff: 0.2639 - val_tversky: 0.2878 - val_tversky_axis: 0.2038 - 5s/epoch - 395ms/step\n",
      "Epoch 47/150\n",
      "13/13 - 5s - loss: 0.7726 - dice_coeff: 0.2459 - tversky: 0.2969 - tversky_axis: 0.2274 - val_loss: 0.8500 - val_dice_coeff: 0.1865 - val_tversky: 0.2119 - val_tversky_axis: 0.1500 - 5s/epoch - 405ms/step\n",
      "Epoch 48/150\n",
      "13/13 - 5s - loss: 0.7672 - dice_coeff: 0.2523 - tversky: 0.3033 - tversky_axis: 0.2328 - val_loss: 0.8147 - val_dice_coeff: 0.2679 - val_tversky: 0.2888 - val_tversky_axis: 0.1853 - 5s/epoch - 397ms/step\n",
      "Epoch 49/150\n",
      "13/13 - 5s - loss: 0.7740 - dice_coeff: 0.2485 - tversky: 0.3012 - tversky_axis: 0.2260 - val_loss: 0.7884 - val_dice_coeff: 0.2929 - val_tversky: 0.3149 - val_tversky_axis: 0.2116 - 5s/epoch - 417ms/step\n",
      "Epoch 50/150\n",
      "13/13 - 5s - loss: 0.7711 - dice_coeff: 0.2588 - tversky: 0.3091 - tversky_axis: 0.2289 - val_loss: 0.8048 - val_dice_coeff: 0.2978 - val_tversky: 0.3122 - val_tversky_axis: 0.1952 - 5s/epoch - 398ms/step\n",
      "Epoch 51/150\n",
      "13/13 - 5s - loss: 0.7555 - dice_coeff: 0.2821 - tversky: 0.3307 - tversky_axis: 0.2445 - val_loss: 0.8696 - val_dice_coeff: 0.2375 - val_tversky: 0.2463 - val_tversky_axis: 0.1304 - 5s/epoch - 396ms/step\n",
      "Epoch 52/150\n",
      "13/13 - 5s - loss: 0.7687 - dice_coeff: 0.2489 - tversky: 0.2992 - tversky_axis: 0.2313 - val_loss: 0.7909 - val_dice_coeff: 0.2198 - val_tversky: 0.2620 - val_tversky_axis: 0.2091 - 5s/epoch - 398ms/step\n",
      "Epoch 53/150\n",
      "13/13 - 5s - loss: 0.7708 - dice_coeff: 0.2697 - tversky: 0.3215 - tversky_axis: 0.2292 - val_loss: 0.8105 - val_dice_coeff: 0.2963 - val_tversky: 0.3080 - val_tversky_axis: 0.1895 - 5s/epoch - 400ms/step\n",
      "Epoch 54/150\n",
      "13/13 - 6s - loss: 0.7707 - dice_coeff: 0.2488 - tversky: 0.2990 - tversky_axis: 0.2293 - val_loss: 0.7879 - val_dice_coeff: 0.2410 - val_tversky: 0.2829 - val_tversky_axis: 0.2121 - 6s/epoch - 439ms/step\n",
      "Epoch 55/150\n",
      "13/13 - 5s - loss: 0.7656 - dice_coeff: 0.2807 - tversky: 0.3327 - tversky_axis: 0.2344 - val_loss: 0.8175 - val_dice_coeff: 0.2443 - val_tversky: 0.2598 - val_tversky_axis: 0.1825 - 5s/epoch - 396ms/step\n",
      "Epoch 56/150\n",
      "13/13 - 5s - loss: 0.7660 - dice_coeff: 0.2438 - tversky: 0.2885 - tversky_axis: 0.2340 - val_loss: 0.8103 - val_dice_coeff: 0.1543 - val_tversky: 0.2108 - val_tversky_axis: 0.1897 - 5s/epoch - 399ms/step\n",
      "Epoch 57/150\n",
      "13/13 - 5s - loss: 0.7672 - dice_coeff: 0.2587 - tversky: 0.3155 - tversky_axis: 0.2328 - val_loss: 0.8188 - val_dice_coeff: 0.1601 - val_tversky: 0.2166 - val_tversky_axis: 0.1812 - 5s/epoch - 385ms/step\n",
      "Epoch 58/150\n",
      "13/13 - 5s - loss: 0.7568 - dice_coeff: 0.2766 - tversky: 0.3240 - tversky_axis: 0.2432 - val_loss: 0.8370 - val_dice_coeff: 0.1967 - val_tversky: 0.2509 - val_tversky_axis: 0.1630 - 5s/epoch - 396ms/step\n",
      "Epoch 59/150\n",
      "13/13 - 5s - loss: 0.7521 - dice_coeff: 0.2808 - tversky: 0.3312 - tversky_axis: 0.2479 - val_loss: 0.7828 - val_dice_coeff: 0.2868 - val_tversky: 0.3298 - val_tversky_axis: 0.2172 - 5s/epoch - 419ms/step\n",
      "Epoch 60/150\n",
      "13/13 - 5s - loss: 0.7478 - dice_coeff: 0.3081 - tversky: 0.3570 - tversky_axis: 0.2522 - val_loss: 0.8089 - val_dice_coeff: 0.2913 - val_tversky: 0.3242 - val_tversky_axis: 0.1911 - 5s/epoch - 389ms/step\n",
      "Epoch 61/150\n",
      "13/13 - 5s - loss: 0.7529 - dice_coeff: 0.2779 - tversky: 0.3240 - tversky_axis: 0.2471 - val_loss: 0.7790 - val_dice_coeff: 0.2422 - val_tversky: 0.2870 - val_tversky_axis: 0.2210 - 5s/epoch - 412ms/step\n",
      "Epoch 62/150\n",
      "13/13 - 5s - loss: 0.7526 - dice_coeff: 0.2836 - tversky: 0.3369 - tversky_axis: 0.2474 - val_loss: 0.8363 - val_dice_coeff: 0.2535 - val_tversky: 0.2901 - val_tversky_axis: 0.1637 - 5s/epoch - 387ms/step\n",
      "Epoch 63/150\n",
      "13/13 - 5s - loss: 0.7577 - dice_coeff: 0.2694 - tversky: 0.3180 - tversky_axis: 0.2423 - val_loss: 0.7962 - val_dice_coeff: 0.2869 - val_tversky: 0.3220 - val_tversky_axis: 0.2038 - 5s/epoch - 395ms/step\n",
      "Epoch 64/150\n",
      "13/13 - 5s - loss: 0.7457 - dice_coeff: 0.2863 - tversky: 0.3362 - tversky_axis: 0.2543 - val_loss: 0.8969 - val_dice_coeff: 0.2018 - val_tversky: 0.1788 - val_tversky_axis: 0.1031 - 5s/epoch - 400ms/step\n",
      "Epoch 65/150\n",
      "13/13 - 5s - loss: 0.7677 - dice_coeff: 0.2674 - tversky: 0.3085 - tversky_axis: 0.2323 - val_loss: 0.9021 - val_dice_coeff: 0.1039 - val_tversky: 0.0829 - val_tversky_axis: 0.0979 - 5s/epoch - 391ms/step\n",
      "Epoch 66/150\n",
      "13/13 - 5s - loss: 0.7605 - dice_coeff: 0.2512 - tversky: 0.3094 - tversky_axis: 0.2395 - val_loss: 0.8688 - val_dice_coeff: 0.1217 - val_tversky: 0.1097 - val_tversky_axis: 0.1312 - 5s/epoch - 392ms/step\n",
      "Epoch 67/150\n",
      "13/13 - 5s - loss: 0.7540 - dice_coeff: 0.2741 - tversky: 0.3263 - tversky_axis: 0.2460 - val_loss: 0.8569 - val_dice_coeff: 0.2207 - val_tversky: 0.2196 - val_tversky_axis: 0.1431 - 5s/epoch - 384ms/step\n",
      "Epoch 68/150\n",
      "13/13 - 5s - loss: 0.7608 - dice_coeff: 0.2816 - tversky: 0.3295 - tversky_axis: 0.2392 - val_loss: 0.9653 - val_dice_coeff: 0.0511 - val_tversky: 0.0448 - val_tversky_axis: 0.0347 - 5s/epoch - 393ms/step\n",
      "Epoch 69/150\n",
      "13/13 - 5s - loss: 0.7557 - dice_coeff: 0.2770 - tversky: 0.3290 - tversky_axis: 0.2443 - val_loss: 0.7901 - val_dice_coeff: 0.2710 - val_tversky: 0.2970 - val_tversky_axis: 0.2099 - 5s/epoch - 393ms/step\n",
      "Epoch 70/150\n",
      "13/13 - 5s - loss: 0.7510 - dice_coeff: 0.2882 - tversky: 0.3358 - tversky_axis: 0.2490 - val_loss: 0.7967 - val_dice_coeff: 0.2901 - val_tversky: 0.3087 - val_tversky_axis: 0.2033 - 5s/epoch - 390ms/step\n",
      "Epoch 71/150\n",
      "13/13 - 5s - loss: 0.7389 - dice_coeff: 0.3014 - tversky: 0.3519 - tversky_axis: 0.2611 - val_loss: 0.9530 - val_dice_coeff: 0.0293 - val_tversky: 0.0455 - val_tversky_axis: 0.0470 - 5s/epoch - 401ms/step\n",
      "Epoch 72/150\n",
      "13/13 - 5s - loss: 0.7638 - dice_coeff: 0.2627 - tversky: 0.3146 - tversky_axis: 0.2362 - val_loss: 0.8346 - val_dice_coeff: 0.1931 - val_tversky: 0.1770 - val_tversky_axis: 0.1654 - 5s/epoch - 393ms/step\n",
      "Epoch 73/150\n",
      "13/13 - 5s - loss: 0.7840 - dice_coeff: 0.2347 - tversky: 0.2756 - tversky_axis: 0.2160 - val_loss: 0.8973 - val_dice_coeff: 0.0715 - val_tversky: 0.0976 - val_tversky_axis: 0.1027 - 5s/epoch - 399ms/step\n",
      "Epoch 74/150\n",
      "13/13 - 5s - loss: 0.7644 - dice_coeff: 0.2492 - tversky: 0.3036 - tversky_axis: 0.2356 - val_loss: 0.8057 - val_dice_coeff: 0.1836 - val_tversky: 0.2286 - val_tversky_axis: 0.1943 - 5s/epoch - 402ms/step\n",
      "Epoch 75/150\n",
      "13/13 - 5s - loss: 0.7639 - dice_coeff: 0.2681 - tversky: 0.3250 - tversky_axis: 0.2361 - val_loss: 0.8867 - val_dice_coeff: 0.1273 - val_tversky: 0.1348 - val_tversky_axis: 0.1133 - 5s/epoch - 400ms/step\n",
      "Epoch 76/150\n",
      "13/13 - 6s - loss: 0.7566 - dice_coeff: 0.2864 - tversky: 0.3288 - tversky_axis: 0.2434 - val_loss: 0.7671 - val_dice_coeff: 0.2325 - val_tversky: 0.2827 - val_tversky_axis: 0.2329 - 6s/epoch - 432ms/step\n",
      "Epoch 77/150\n",
      "13/13 - 5s - loss: 0.7496 - dice_coeff: 0.2923 - tversky: 0.3415 - tversky_axis: 0.2504 - val_loss: 0.8079 - val_dice_coeff: 0.1897 - val_tversky: 0.2337 - val_tversky_axis: 0.1921 - 5s/epoch - 387ms/step\n",
      "Epoch 78/150\n",
      "13/13 - 5s - loss: 0.7391 - dice_coeff: 0.3008 - tversky: 0.3508 - tversky_axis: 0.2609 - val_loss: 0.8132 - val_dice_coeff: 0.2462 - val_tversky: 0.2953 - val_tversky_axis: 0.1868 - 5s/epoch - 389ms/step\n",
      "Epoch 79/150\n",
      "13/13 - 5s - loss: 0.7381 - dice_coeff: 0.3086 - tversky: 0.3564 - tversky_axis: 0.2619 - val_loss: 0.7953 - val_dice_coeff: 0.2665 - val_tversky: 0.3036 - val_tversky_axis: 0.2047 - 5s/epoch - 401ms/step\n",
      "Epoch 80/150\n",
      "13/13 - 5s - loss: 0.7380 - dice_coeff: 0.2958 - tversky: 0.3440 - tversky_axis: 0.2620 - val_loss: 0.7686 - val_dice_coeff: 0.3082 - val_tversky: 0.3430 - val_tversky_axis: 0.2314 - 5s/epoch - 400ms/step\n",
      "Epoch 81/150\n",
      "13/13 - 5s - loss: 0.7370 - dice_coeff: 0.3127 - tversky: 0.3620 - tversky_axis: 0.2630 - val_loss: 0.7741 - val_dice_coeff: 0.2686 - val_tversky: 0.3127 - val_tversky_axis: 0.2259 - 5s/epoch - 399ms/step\n",
      "Epoch 82/150\n",
      "13/13 - 5s - loss: 0.7351 - dice_coeff: 0.3103 - tversky: 0.3567 - tversky_axis: 0.2649 - val_loss: 0.7917 - val_dice_coeff: 0.2747 - val_tversky: 0.3212 - val_tversky_axis: 0.2083 - 5s/epoch - 394ms/step\n",
      "Epoch 83/150\n",
      "13/13 - 5s - loss: 0.7303 - dice_coeff: 0.3038 - tversky: 0.3534 - tversky_axis: 0.2697 - val_loss: 0.7908 - val_dice_coeff: 0.3080 - val_tversky: 0.3470 - val_tversky_axis: 0.2092 - 5s/epoch - 402ms/step\n",
      "Epoch 84/150\n",
      "13/13 - 5s - loss: 0.7363 - dice_coeff: 0.3181 - tversky: 0.3705 - tversky_axis: 0.2637 - val_loss: 0.8167 - val_dice_coeff: 0.3093 - val_tversky: 0.3174 - val_tversky_axis: 0.1833 - 5s/epoch - 381ms/step\n",
      "Epoch 85/150\n",
      "13/13 - 5s - loss: 0.7360 - dice_coeff: 0.2993 - tversky: 0.3455 - tversky_axis: 0.2640 - val_loss: 0.7935 - val_dice_coeff: 0.2838 - val_tversky: 0.3242 - val_tversky_axis: 0.2065 - 5s/epoch - 383ms/step\n",
      "Epoch 86/150\n",
      "13/13 - 5s - loss: 0.7397 - dice_coeff: 0.3038 - tversky: 0.3546 - tversky_axis: 0.2603 - val_loss: 0.8819 - val_dice_coeff: 0.1641 - val_tversky: 0.1596 - val_tversky_axis: 0.1181 - 5s/epoch - 394ms/step\n",
      "Epoch 87/150\n",
      "13/13 - 5s - loss: 0.7311 - dice_coeff: 0.2968 - tversky: 0.3434 - tversky_axis: 0.2689 - val_loss: 0.7915 - val_dice_coeff: 0.2674 - val_tversky: 0.3072 - val_tversky_axis: 0.2085 - 5s/epoch - 386ms/step\n",
      "Epoch 88/150\n",
      "13/13 - 5s - loss: 0.7547 - dice_coeff: 0.2866 - tversky: 0.3380 - tversky_axis: 0.2453 - val_loss: 0.7867 - val_dice_coeff: 0.2980 - val_tversky: 0.3245 - val_tversky_axis: 0.2133 - 5s/epoch - 377ms/step\n",
      "Epoch 89/150\n",
      "13/13 - 5s - loss: 0.7519 - dice_coeff: 0.2676 - tversky: 0.3065 - tversky_axis: 0.2481 - val_loss: 0.7785 - val_dice_coeff: 0.3041 - val_tversky: 0.3232 - val_tversky_axis: 0.2215 - 5s/epoch - 395ms/step\n",
      "Epoch 90/150\n",
      "13/13 - 5s - loss: 0.7441 - dice_coeff: 0.2981 - tversky: 0.3535 - tversky_axis: 0.2559 - val_loss: 0.9207 - val_dice_coeff: 0.0675 - val_tversky: 0.0796 - val_tversky_axis: 0.0793 - 5s/epoch - 390ms/step\n",
      "Epoch 91/150\n",
      "13/13 - 5s - loss: 0.7379 - dice_coeff: 0.3022 - tversky: 0.3483 - tversky_axis: 0.2621 - val_loss: 0.9030 - val_dice_coeff: 0.1854 - val_tversky: 0.1649 - val_tversky_axis: 0.0970 - 5s/epoch - 394ms/step\n",
      "Epoch 92/150\n",
      "13/13 - 5s - loss: 0.7323 - dice_coeff: 0.3106 - tversky: 0.3636 - tversky_axis: 0.2677 - val_loss: 0.8658 - val_dice_coeff: 0.2491 - val_tversky: 0.2163 - val_tversky_axis: 0.1342 - 5s/epoch - 388ms/step\n",
      "Epoch 93/150\n",
      "13/13 - 5s - loss: 0.7382 - dice_coeff: 0.3129 - tversky: 0.3520 - tversky_axis: 0.2618 - val_loss: 0.7777 - val_dice_coeff: 0.3010 - val_tversky: 0.3158 - val_tversky_axis: 0.2223 - 5s/epoch - 400ms/step\n",
      "Epoch 94/150\n",
      "13/13 - 5s - loss: 0.7446 - dice_coeff: 0.2909 - tversky: 0.3445 - tversky_axis: 0.2554 - val_loss: 0.8174 - val_dice_coeff: 0.3013 - val_tversky: 0.3052 - val_tversky_axis: 0.1826 - 5s/epoch - 391ms/step\n",
      "Epoch 95/150\n",
      "13/13 - 5s - loss: 0.7371 - dice_coeff: 0.3034 - tversky: 0.3492 - tversky_axis: 0.2629 - val_loss: 0.7885 - val_dice_coeff: 0.3648 - val_tversky: 0.3836 - val_tversky_axis: 0.2115 - 5s/epoch - 386ms/step\n",
      "Epoch 96/150\n",
      "13/13 - 5s - loss: 0.7357 - dice_coeff: 0.3093 - tversky: 0.3609 - tversky_axis: 0.2643 - val_loss: 0.8011 - val_dice_coeff: 0.3047 - val_tversky: 0.3323 - val_tversky_axis: 0.1989 - 5s/epoch - 389ms/step\n",
      "Epoch 97/150\n",
      "13/13 - 5s - loss: 0.7241 - dice_coeff: 0.3183 - tversky: 0.3663 - tversky_axis: 0.2759 - val_loss: 0.9835 - val_dice_coeff: 0.0416 - val_tversky: 0.0311 - val_tversky_axis: 0.0165 - 5s/epoch - 383ms/step\n",
      "Epoch 98/150\n",
      "13/13 - 5s - loss: 0.7307 - dice_coeff: 0.2993 - tversky: 0.3469 - tversky_axis: 0.2693 - val_loss: 0.7774 - val_dice_coeff: 0.2781 - val_tversky: 0.3081 - val_tversky_axis: 0.2226 - 5s/epoch - 387ms/step\n",
      "Epoch 99/150\n",
      "13/13 - 5s - loss: 0.7418 - dice_coeff: 0.3136 - tversky: 0.3659 - tversky_axis: 0.2582 - val_loss: 0.7873 - val_dice_coeff: 0.2295 - val_tversky: 0.2776 - val_tversky_axis: 0.2127 - 5s/epoch - 393ms/step\n",
      "Epoch 100/150\n",
      "13/13 - 5s - loss: 0.7284 - dice_coeff: 0.3115 - tversky: 0.3624 - tversky_axis: 0.2716 - val_loss: 0.7797 - val_dice_coeff: 0.3109 - val_tversky: 0.3390 - val_tversky_axis: 0.2203 - 5s/epoch - 388ms/step\n",
      "Epoch 101/150\n",
      "13/13 - 5s - loss: 0.7308 - dice_coeff: 0.3120 - tversky: 0.3629 - tversky_axis: 0.2692 - val_loss: 0.7713 - val_dice_coeff: 0.2962 - val_tversky: 0.3260 - val_tversky_axis: 0.2287 - 5s/epoch - 399ms/step\n",
      "Epoch 102/150\n",
      "13/13 - 5s - loss: 0.7191 - dice_coeff: 0.3249 - tversky: 0.3709 - tversky_axis: 0.2809 - val_loss: 0.7842 - val_dice_coeff: 0.3131 - val_tversky: 0.3425 - val_tversky_axis: 0.2158 - 5s/epoch - 392ms/step\n",
      "Epoch 103/150\n",
      "13/13 - 5s - loss: 0.7217 - dice_coeff: 0.3174 - tversky: 0.3681 - tversky_axis: 0.2783 - val_loss: 0.7984 - val_dice_coeff: 0.3415 - val_tversky: 0.3435 - val_tversky_axis: 0.2016 - 5s/epoch - 395ms/step\n",
      "Epoch 104/150\n",
      "13/13 - 5s - loss: 0.7196 - dice_coeff: 0.3351 - tversky: 0.3814 - tversky_axis: 0.2804 - val_loss: 0.7697 - val_dice_coeff: 0.2973 - val_tversky: 0.3327 - val_tversky_axis: 0.2303 - 5s/epoch - 394ms/step\n",
      "Epoch 105/150\n",
      "13/13 - 5s - loss: 0.7202 - dice_coeff: 0.3276 - tversky: 0.3758 - tversky_axis: 0.2798 - val_loss: 0.7755 - val_dice_coeff: 0.2799 - val_tversky: 0.3153 - val_tversky_axis: 0.2245 - 5s/epoch - 404ms/step\n",
      "Epoch 106/150\n",
      "13/13 - 5s - loss: 0.7223 - dice_coeff: 0.3265 - tversky: 0.3784 - tversky_axis: 0.2777 - val_loss: 0.8667 - val_dice_coeff: 0.1430 - val_tversky: 0.1392 - val_tversky_axis: 0.1333 - 5s/epoch - 388ms/step\n",
      "Epoch 107/150\n",
      "13/13 - 5s - loss: 0.7406 - dice_coeff: 0.3065 - tversky: 0.3466 - tversky_axis: 0.2594 - val_loss: 0.9008 - val_dice_coeff: 0.1105 - val_tversky: 0.1008 - val_tversky_axis: 0.0992 - 5s/epoch - 395ms/step\n",
      "Epoch 108/150\n",
      "13/13 - 5s - loss: 0.7280 - dice_coeff: 0.3117 - tversky: 0.3616 - tversky_axis: 0.2720 - val_loss: 0.8126 - val_dice_coeff: 0.2856 - val_tversky: 0.2994 - val_tversky_axis: 0.1874 - 5s/epoch - 374ms/step\n",
      "Epoch 109/150\n",
      "13/13 - 5s - loss: 0.7239 - dice_coeff: 0.3261 - tversky: 0.3715 - tversky_axis: 0.2761 - val_loss: 0.7575 - val_dice_coeff: 0.2843 - val_tversky: 0.3180 - val_tversky_axis: 0.2425 - 5s/epoch - 419ms/step\n",
      "Epoch 110/150\n",
      "13/13 - 5s - loss: 0.7255 - dice_coeff: 0.3265 - tversky: 0.3742 - tversky_axis: 0.2745 - val_loss: 0.7902 - val_dice_coeff: 0.3167 - val_tversky: 0.3290 - val_tversky_axis: 0.2098 - 5s/epoch - 402ms/step\n",
      "Epoch 111/150\n",
      "13/13 - 6s - loss: 0.7292 - dice_coeff: 0.3092 - tversky: 0.3554 - tversky_axis: 0.2708 - val_loss: 0.7514 - val_dice_coeff: 0.3364 - val_tversky: 0.3637 - val_tversky_axis: 0.2486 - 6s/epoch - 424ms/step\n",
      "Epoch 112/150\n",
      "13/13 - 5s - loss: 0.7290 - dice_coeff: 0.3187 - tversky: 0.3634 - tversky_axis: 0.2710 - val_loss: 0.7842 - val_dice_coeff: 0.1869 - val_tversky: 0.2403 - val_tversky_axis: 0.2158 - 5s/epoch - 387ms/step\n",
      "Epoch 113/150\n",
      "13/13 - 5s - loss: 0.7485 - dice_coeff: 0.2844 - tversky: 0.3375 - tversky_axis: 0.2515 - val_loss: 0.7632 - val_dice_coeff: 0.2603 - val_tversky: 0.3053 - val_tversky_axis: 0.2368 - 5s/epoch - 388ms/step\n",
      "Epoch 114/150\n",
      "13/13 - 5s - loss: 0.7283 - dice_coeff: 0.3193 - tversky: 0.3678 - tversky_axis: 0.2717 - val_loss: 0.7671 - val_dice_coeff: 0.2649 - val_tversky: 0.3053 - val_tversky_axis: 0.2329 - 5s/epoch - 388ms/step\n",
      "Epoch 115/150\n",
      "13/13 - 5s - loss: 0.7161 - dice_coeff: 0.3316 - tversky: 0.3766 - tversky_axis: 0.2839 - val_loss: 0.7582 - val_dice_coeff: 0.3141 - val_tversky: 0.3412 - val_tversky_axis: 0.2418 - 5s/epoch - 387ms/step\n",
      "Epoch 116/150\n",
      "13/13 - 5s - loss: 0.7125 - dice_coeff: 0.3423 - tversky: 0.3913 - tversky_axis: 0.2875 - val_loss: 0.8274 - val_dice_coeff: 0.1427 - val_tversky: 0.1389 - val_tversky_axis: 0.1726 - 5s/epoch - 382ms/step\n",
      "Epoch 117/150\n",
      "13/13 - 5s - loss: 0.7108 - dice_coeff: 0.3290 - tversky: 0.3768 - tversky_axis: 0.2892 - val_loss: 0.8012 - val_dice_coeff: 0.3107 - val_tversky: 0.3194 - val_tversky_axis: 0.1988 - 5s/epoch - 396ms/step\n",
      "Epoch 118/150\n",
      "13/13 - 5s - loss: 0.7171 - dice_coeff: 0.3305 - tversky: 0.3790 - tversky_axis: 0.2829 - val_loss: 0.7657 - val_dice_coeff: 0.3323 - val_tversky: 0.3494 - val_tversky_axis: 0.2343 - 5s/epoch - 386ms/step\n",
      "Epoch 119/150\n",
      "13/13 - 5s - loss: 0.7152 - dice_coeff: 0.3337 - tversky: 0.3839 - tversky_axis: 0.2848 - val_loss: 0.8235 - val_dice_coeff: 0.2811 - val_tversky: 0.2904 - val_tversky_axis: 0.1765 - 5s/epoch - 393ms/step\n",
      "Epoch 120/150\n",
      "13/13 - 5s - loss: 0.7071 - dice_coeff: 0.3573 - tversky: 0.4060 - tversky_axis: 0.2929 - val_loss: 0.7814 - val_dice_coeff: 0.2799 - val_tversky: 0.3104 - val_tversky_axis: 0.2186 - 5s/epoch - 394ms/step\n",
      "Epoch 121/150\n",
      "13/13 - 5s - loss: 0.7065 - dice_coeff: 0.3514 - tversky: 0.3978 - tversky_axis: 0.2935 - val_loss: 0.8050 - val_dice_coeff: 0.2883 - val_tversky: 0.3004 - val_tversky_axis: 0.1950 - 5s/epoch - 390ms/step\n",
      "Epoch 122/150\n",
      "13/13 - 5s - loss: 0.7095 - dice_coeff: 0.3251 - tversky: 0.3722 - tversky_axis: 0.2905 - val_loss: 0.7928 - val_dice_coeff: 0.3635 - val_tversky: 0.3717 - val_tversky_axis: 0.2072 - 5s/epoch - 403ms/step\n",
      "Epoch 123/150\n",
      "13/13 - 5s - loss: 0.7088 - dice_coeff: 0.3330 - tversky: 0.3839 - tversky_axis: 0.2912 - val_loss: 0.7825 - val_dice_coeff: 0.3197 - val_tversky: 0.3513 - val_tversky_axis: 0.2175 - 5s/epoch - 391ms/step\n",
      "Epoch 124/150\n",
      "13/13 - 5s - loss: 0.7052 - dice_coeff: 0.3430 - tversky: 0.3916 - tversky_axis: 0.2948 - val_loss: 0.7753 - val_dice_coeff: 0.3325 - val_tversky: 0.3450 - val_tversky_axis: 0.2247 - 5s/epoch - 383ms/step\n",
      "Epoch 125/150\n",
      "13/13 - 5s - loss: 0.7091 - dice_coeff: 0.3378 - tversky: 0.3895 - tversky_axis: 0.2909 - val_loss: 0.7882 - val_dice_coeff: 0.3690 - val_tversky: 0.3830 - val_tversky_axis: 0.2118 - 5s/epoch - 400ms/step\n",
      "Epoch 126/150\n",
      "13/13 - 5s - loss: 0.7074 - dice_coeff: 0.3402 - tversky: 0.3862 - tversky_axis: 0.2926 - val_loss: 0.7961 - val_dice_coeff: 0.3476 - val_tversky: 0.3619 - val_tversky_axis: 0.2039 - 5s/epoch - 400ms/step\n",
      "Epoch 127/150\n",
      "13/13 - 5s - loss: 0.7150 - dice_coeff: 0.3126 - tversky: 0.3649 - tversky_axis: 0.2850 - val_loss: 0.9264 - val_dice_coeff: 0.0965 - val_tversky: 0.0784 - val_tversky_axis: 0.0736 - 5s/epoch - 398ms/step\n",
      "Epoch 128/150\n",
      "13/13 - 5s - loss: 0.7177 - dice_coeff: 0.3367 - tversky: 0.3809 - tversky_axis: 0.2823 - val_loss: 0.9050 - val_dice_coeff: 0.0896 - val_tversky: 0.0867 - val_tversky_axis: 0.0950 - 5s/epoch - 384ms/step\n",
      "Epoch 129/150\n",
      "13/13 - 5s - loss: 0.7165 - dice_coeff: 0.3219 - tversky: 0.3705 - tversky_axis: 0.2835 - val_loss: 0.8722 - val_dice_coeff: 0.1845 - val_tversky: 0.2122 - val_tversky_axis: 0.1278 - 5s/epoch - 394ms/step\n",
      "Epoch 130/150\n",
      "13/13 - 5s - loss: 0.7073 - dice_coeff: 0.3288 - tversky: 0.3804 - tversky_axis: 0.2927 - val_loss: 0.9232 - val_dice_coeff: 0.0665 - val_tversky: 0.0893 - val_tversky_axis: 0.0768 - 5s/epoch - 394ms/step\n",
      "Epoch 131/150\n",
      "13/13 - 5s - loss: 0.7046 - dice_coeff: 0.3460 - tversky: 0.3917 - tversky_axis: 0.2954 - val_loss: 0.8233 - val_dice_coeff: 0.2581 - val_tversky: 0.2716 - val_tversky_axis: 0.1767 - 5s/epoch - 403ms/step\n",
      "Epoch 132/150\n",
      "13/13 - 5s - loss: 0.7047 - dice_coeff: 0.3274 - tversky: 0.3774 - tversky_axis: 0.2953 - val_loss: 0.7696 - val_dice_coeff: 0.3029 - val_tversky: 0.3241 - val_tversky_axis: 0.2304 - 5s/epoch - 406ms/step\n",
      "Epoch 133/150\n",
      "13/13 - 5s - loss: 0.6996 - dice_coeff: 0.3467 - tversky: 0.3990 - tversky_axis: 0.3004 - val_loss: 0.7638 - val_dice_coeff: 0.3204 - val_tversky: 0.3297 - val_tversky_axis: 0.2362 - 5s/epoch - 385ms/step\n",
      "Epoch 134/150\n",
      "13/13 - 5s - loss: 0.7033 - dice_coeff: 0.3377 - tversky: 0.3825 - tversky_axis: 0.2967 - val_loss: 0.7556 - val_dice_coeff: 0.3331 - val_tversky: 0.3436 - val_tversky_axis: 0.2444 - 5s/epoch - 410ms/step\n",
      "Epoch 135/150\n",
      "13/13 - 5s - loss: 0.7036 - dice_coeff: 0.3456 - tversky: 0.3967 - tversky_axis: 0.2964 - val_loss: 0.7802 - val_dice_coeff: 0.3171 - val_tversky: 0.3336 - val_tversky_axis: 0.2198 - 5s/epoch - 393ms/step\n",
      "Epoch 136/150\n",
      "13/13 - 5s - loss: 0.6970 - dice_coeff: 0.3359 - tversky: 0.3857 - tversky_axis: 0.3030 - val_loss: 0.8102 - val_dice_coeff: 0.2917 - val_tversky: 0.3014 - val_tversky_axis: 0.1898 - 5s/epoch - 395ms/step\n",
      "Epoch 137/150\n",
      "13/13 - 5s - loss: 0.6947 - dice_coeff: 0.3569 - tversky: 0.4078 - tversky_axis: 0.3053 - val_loss: 0.8028 - val_dice_coeff: 0.2833 - val_tversky: 0.3113 - val_tversky_axis: 0.1972 - 5s/epoch - 378ms/step\n",
      "Epoch 138/150\n",
      "13/13 - 5s - loss: 0.6985 - dice_coeff: 0.3448 - tversky: 0.3934 - tversky_axis: 0.3015 - val_loss: 0.8233 - val_dice_coeff: 0.2908 - val_tversky: 0.2849 - val_tversky_axis: 0.1767 - 5s/epoch - 378ms/step\n",
      "Epoch 139/150\n",
      "13/13 - 5s - loss: 0.6980 - dice_coeff: 0.3391 - tversky: 0.3899 - tversky_axis: 0.3020 - val_loss: 0.7910 - val_dice_coeff: 0.3181 - val_tversky: 0.3431 - val_tversky_axis: 0.2090 - 5s/epoch - 407ms/step\n",
      "Epoch 140/150\n",
      "13/13 - 5s - loss: 0.7010 - dice_coeff: 0.3406 - tversky: 0.3912 - tversky_axis: 0.2990 - val_loss: 0.8164 - val_dice_coeff: 0.1596 - val_tversky: 0.1469 - val_tversky_axis: 0.1836 - 5s/epoch - 400ms/step\n",
      "Epoch 141/150\n",
      "13/13 - 5s - loss: 0.6971 - dice_coeff: 0.3396 - tversky: 0.3885 - tversky_axis: 0.3029 - val_loss: 0.8393 - val_dice_coeff: 0.1387 - val_tversky: 0.1237 - val_tversky_axis: 0.1607 - 5s/epoch - 394ms/step\n",
      "Epoch 142/150\n",
      "13/13 - 5s - loss: 0.6934 - dice_coeff: 0.3411 - tversky: 0.3948 - tversky_axis: 0.3066 - val_loss: 0.8059 - val_dice_coeff: 0.2953 - val_tversky: 0.3165 - val_tversky_axis: 0.1941 - 5s/epoch - 386ms/step\n",
      "Epoch 143/150\n",
      "13/13 - 5s - loss: 0.7044 - dice_coeff: 0.3391 - tversky: 0.3896 - tversky_axis: 0.2956 - val_loss: 0.7873 - val_dice_coeff: 0.2577 - val_tversky: 0.3036 - val_tversky_axis: 0.2127 - 5s/epoch - 400ms/step\n",
      "Epoch 144/150\n",
      "13/13 - 5s - loss: 0.7064 - dice_coeff: 0.3460 - tversky: 0.3934 - tversky_axis: 0.2936 - val_loss: 0.8508 - val_dice_coeff: 0.1347 - val_tversky: 0.1430 - val_tversky_axis: 0.1492 - 5s/epoch - 390ms/step\n",
      "Epoch 145/150\n",
      "13/13 - 5s - loss: 0.7004 - dice_coeff: 0.3318 - tversky: 0.3806 - tversky_axis: 0.2996 - val_loss: 0.8105 - val_dice_coeff: 0.2920 - val_tversky: 0.3287 - val_tversky_axis: 0.1895 - 5s/epoch - 395ms/step\n",
      "Epoch 146/150\n",
      "13/13 - 5s - loss: 0.7073 - dice_coeff: 0.3404 - tversky: 0.3881 - tversky_axis: 0.2927 - val_loss: 0.8438 - val_dice_coeff: 0.3110 - val_tversky: 0.2925 - val_tversky_axis: 0.1562 - 5s/epoch - 395ms/step\n",
      "Epoch 147/150\n",
      "13/13 - 5s - loss: 0.7142 - dice_coeff: 0.3126 - tversky: 0.3626 - tversky_axis: 0.2858 - val_loss: 0.7849 - val_dice_coeff: 0.2611 - val_tversky: 0.3015 - val_tversky_axis: 0.2151 - 5s/epoch - 397ms/step\n",
      "Epoch 148/150\n",
      "13/13 - 5s - loss: 0.7231 - dice_coeff: 0.3326 - tversky: 0.3812 - tversky_axis: 0.2769 - val_loss: 0.8018 - val_dice_coeff: 0.2856 - val_tversky: 0.2854 - val_tversky_axis: 0.1982 - 5s/epoch - 403ms/step\n",
      "Epoch 149/150\n",
      "13/13 - 5s - loss: 0.7020 - dice_coeff: 0.3489 - tversky: 0.3942 - tversky_axis: 0.2980 - val_loss: 0.8711 - val_dice_coeff: 0.1161 - val_tversky: 0.1139 - val_tversky_axis: 0.1289 - 5s/epoch - 401ms/step\n",
      "Epoch 150/150\n",
      "13/13 - 5s - loss: 0.7046 - dice_coeff: 0.3542 - tversky: 0.4030 - tversky_axis: 0.2954 - val_loss: 0.9523 - val_dice_coeff: 0.0678 - val_tversky: 0.0603 - val_tversky_axis: 0.0477 - 5s/epoch - 389ms/step\n"
     ]
    }
   ],
   "source": [
    "hist = unet.fit(\n",
    "    train_dataset,\n",
    "    epochs=EPOCHS,\n",
    "    validation_data=test_dataset,\n",
    "    callbacks=callbacks,\n",
    "    verbose=2,\n",
    ")"
   ]
  },
  {
   "cell_type": "code",
   "execution_count": 7,
   "id": "de494b47",
   "metadata": {},
   "outputs": [
    {
     "ename": "",
     "evalue": "",
     "output_type": "error",
     "traceback": [
      "\u001b[1;31mThe Kernel crashed while executing code in the the current cell or a previous cell. Please review the code in the cell(s) to identify a possible cause of the failure. Click <a href='https://aka.ms/vscodeJupyterKernelCrash'>here</a> for more info. View Jupyter <a href='command:jupyter.viewOutput'>log</a> for further details."
     ]
    }
   ],
   "source": [
    "cuda.select_device(0)\n",
    "cuda.close()"
   ]
  },
  {
   "cell_type": "code",
   "execution_count": 7,
   "id": "e48de53a",
   "metadata": {},
   "outputs": [],
   "source": [
    "tf.keras.backend.clear_session()\n",
    "del unet"
   ]
  },
  {
   "cell_type": "markdown",
   "id": "837300b6",
   "metadata": {},
   "source": [
    "#### Without class weighting"
   ]
  },
  {
   "cell_type": "code",
   "execution_count": 8,
   "id": "408afad4-93e6-49ad-9519-8b2362cde7b9",
   "metadata": {},
   "outputs": [
    {
     "name": "stderr",
     "output_type": "stream",
     "text": [
      "  0%|          | 0/2 [00:00<?, ?it/s]"
     ]
    },
    {
     "name": "stdout",
     "output_type": "stream",
     "text": [
      "1/1 [==============================] - 0s 486ms/step\n"
     ]
    },
    {
     "name": "stderr",
     "output_type": "stream",
     "text": [
      " 50%|█████     | 1/2 [00:01<00:01,  1.07s/it]"
     ]
    },
    {
     "name": "stdout",
     "output_type": "stream",
     "text": [
      "1/1 [==============================] - 0s 75ms/step\n"
     ]
    },
    {
     "name": "stderr",
     "output_type": "stream",
     "text": [
      "100%|██████████| 2/2 [00:01<00:00,  1.41it/s]\n"
     ]
    }
   ],
   "source": [
    "MODEL_PATH = \"logs/test20221017-185537/best_model.h5\"\n",
    "MODEL_PATH = \"../logs/test-SAMPLEWEIGHTS-20221018-132737/best_model.h5\"\n",
    "MODEL_PATH = \"../logs/test-NOSAMPLEWEIGHTS_OLD_DICE_LOSS_CORRECTED_AXIS_RERUN-20221018-200049/best_model.h5\"\n",
    "MODEL_PATH = \"../logs/WITHOUT-SAMPLEWEIGHTS-250_OLD_DICE_LOSS_CORRECTED_AXIS-20221018-204056/best_model.h5\"\n",
    "MODEL_PATH = \"../logs/WITH-SAMPLEWEIGHTS-250_OLD_DICE_LOSS_CORRECTED_AXIS-20221018-202001/best_model.h5\"\n",
    "unet_model = tf.keras.models.load_model(MODEL_PATH, custom_objects=(LOSSES | METRICS))\n",
    "\n",
    "class_scores = evaluate_per_class_dice(train_dataset, unet_model)"
   ]
  },
  {
   "cell_type": "code",
   "execution_count": 7,
   "id": "0f1c824b",
   "metadata": {},
   "outputs": [
    {
     "data": {
      "text/plain": [
       "{0: 0.9803041,\n",
       " 1: 1.331209e-06,\n",
       " 2: 3.2722528e-06,\n",
       " 3: 0.5989963,\n",
       " 4: 1.442533e-05}"
      ]
     },
     "execution_count": 7,
     "metadata": {},
     "output_type": "execute_result"
    }
   ],
   "source": [
    "class_scores"
   ]
  },
  {
   "cell_type": "code",
   "execution_count": 9,
   "id": "9aacf274",
   "metadata": {},
   "outputs": [
    {
     "data": {
      "text/plain": [
       "{0: 0.9759725, 1: 7.5105786e-06, 2: 0.5, 3: 1.1764704e-11, 4: 3.8533142e-11}"
      ]
     },
     "execution_count": 9,
     "metadata": {},
     "output_type": "execute_result"
    }
   ],
   "source": [
    "class_scores"
   ]
  },
  {
   "cell_type": "code",
   "execution_count": null,
   "id": "53b393e0",
   "metadata": {},
   "outputs": [],
   "source": []
  }
 ],
 "metadata": {
  "kernelspec": {
   "display_name": "Python 3 (ipykernel)",
   "language": "python",
   "name": "python3"
  },
  "language_info": {
   "codemirror_mode": {
    "name": "ipython",
    "version": 3
   },
   "file_extension": ".py",
   "mimetype": "text/x-python",
   "name": "python",
   "nbconvert_exporter": "python",
   "pygments_lexer": "ipython3",
   "version": "3.9.11"
  },
  "vscode": {
   "interpreter": {
    "hash": "949777d72b0d2535278d3dc13498b2535136f6dfe0678499012e853ee9abcab1"
   }
  }
 },
 "nbformat": 4,
 "nbformat_minor": 5
}
