{
 "cells": [
  {
   "cell_type": "markdown",
   "id": "ce37cb02-0072-4b07-b270-6e0162017fbf",
   "metadata": {},
   "source": [
    "# Data Pipeline Walkthrough\n",
    "\n",
    "The purpose of this notebook is to demonstrate how the `SegmentationDataset` and `SegmentationDataPipeline` classes can be used to configure a model training pipeline.\n",
    "\n",
    "In general, there are two major paradigms for loading/preprocessing the data using these classes:\n",
    "1. \"Inline\" preprocessing: indicates that the y-labels (i.e. segmentation masks) exist as Run-length Encoded pairs, as they appear in the raw data. In this paradigm, the `tf.data` pipeline is responsible for un-encoding these labels into segmentation masks as part of the data pipeline step.\n",
    "2. \"Pre-emptive\" preprocessing: indicates that the y-labels have already been converted into segmentation masks and saved out in `.png` format (see `scripts/prepare_data.py` for details). In this paradigm, the `tf.data` pipeline simply just has to load these images as segmenetation masks to be used during training since the RLE conversion has already been performed.\n",
    "\n",
    "This notebook walks through the usage of these two paradigms."
   ]
  },
  {
   "cell_type": "code",
   "execution_count": null,
   "id": "4fb64b8d-24af-407d-aabf-6b9b15aedc76",
   "metadata": {},
   "outputs": [],
   "source": [
    "import os\n",
    "import json\n",
    "\n",
    "import numpy as np\n",
    "import tensorflow as tf\n",
    "import matplotlib.pyplot as plt\n",
    "\n",
    "from src.dataset import SegmentationDataset\n",
    "from src.data_pipeline import SegmentationDataPipeline\n",
    "from src.data_utils import get_dataset_path\n",
    "\n",
    "\n",
    "%load_ext lab_black\n",
    "%load_ext autoreload\n",
    "%autoreload 2"
   ]
  },
  {
   "cell_type": "markdown",
   "id": "8b992c48-64aa-4f82-8037-7096f0bdfc34",
   "metadata": {},
   "source": [
    "## Initialize `SegmentationDataset`\n",
    "\n",
    "The `SegmentationDataset` class provides functionality for loading/preprocessing images and segmentation masks into a format compatible with `tf.data`, as well as functionality for general modeling strategies like train/test splits and over-sampling strategies. \n",
    "\n",
    "We initialize this class by specifying paths to the label file, images directory, image size, and desired test set split percentage. Upon initialization, this class automatically splits the data and saves the splits to local attributes `train_imgs` and `test_imgs`. \n",
    "\n",
    "**Note:** We have specified a sample weighting strategy here. See section [Configuration for sample weighting](#section_1) below for more details on this option.\n"
   ]
  },
  {
   "cell_type": "code",
   "execution_count": 2,
   "id": "afb394b8-4eb6-4dd2-b699-f5e38cd13bb6",
   "metadata": {},
   "outputs": [],
   "source": [
    "DATASET_DIR = get_dataset_path()\n",
    "IMG_SHAPE = (256, 1600)\n",
    "ANNOTATIONS_PATH = f\"{DATASET_DIR}/train.csv\"\n",
    "TRAIN_IMG_PATH = f\"{DATASET_DIR}/train_images\"\n",
    "\n",
    "# instantiate dataset\n",
    "sd = SegmentationDataset(\n",
    "    label_file=ANNOTATIONS_PATH,\n",
    "    img_dir_path=TRAIN_IMG_PATH,\n",
    "    img_shape=IMG_SHAPE,\n",
    "    test_size=0.1,\n",
    "    drop_classes=True,\n",
    "    sample_weight_strategy=\"ens\",\n",
    "    sample_weight_ens_beta=0.99,\n",
    ")"
   ]
  },
  {
   "cell_type": "markdown",
   "id": "e69dfbe4-626d-4a51-a378-5e55aca363bd",
   "metadata": {},
   "source": [
    "## Data Pipeline Configurations\n",
    "\n",
    "The following sections demonstrate how to use the data pipelines for \"inline\" vs. \"pre-emptive\" preprocessing settings."
   ]
  },
  {
   "cell_type": "markdown",
   "id": "c642bbfb-c1b2-4a71-9f92-ab7ebc057211",
   "metadata": {
    "tags": []
   },
   "source": [
    "### 1. Pipeline with inline preprocessing"
   ]
  },
  {
   "cell_type": "markdown",
   "id": "6b9e8e21-1be0-4580-aad0-9ffb7f53db1b",
   "metadata": {},
   "source": [
    "#### Get (X, y) sequences for `tf.data` pipeline"
   ]
  },
  {
   "cell_type": "code",
   "execution_count": 3,
   "id": "88f1fb7d-0693-42e4-a1a0-419eba58c1ab",
   "metadata": {},
   "outputs": [],
   "source": [
    "# create x/y splits\n",
    "train_imgs, test_imgs = sd.train_imgs, sd.test_imgs\n",
    "\n",
    "X_train = sd.get_image_sequence(train_imgs)\n",
    "y_train = sd.get_label_sequence(train_imgs, label_type=\"inline\")\n",
    "X_test = sd.get_image_sequence(test_imgs)\n",
    "y_test = sd.get_label_sequence(test_imgs, label_type=\"inline\")"
   ]
  },
  {
   "cell_type": "code",
   "execution_count": 4,
   "id": "eadf433c-b7b4-488d-8b69-ca9a49b64958",
   "metadata": {},
   "outputs": [
    {
     "name": "stdout",
     "output_type": "stream",
     "text": [
      "X:  ['../data/train_images/b2cbd553f.jpg', '../data/train_images/8d0addbbc.jpg']\n",
      "\n",
      "y:  [(['3', '4'], ['155537 1 155791 3 156046 3 156301 4 156555 6 156810 7 157065 7 157319 9 157574 10 157828 11 158080 15 158333 18 158587 19 158843 19 159098 20 159354 20 159609 20 159865 20 160120 20 160376 19 160632 19 160888 18 161143 18 161399 17 161655 17 161910 18 162166 18 162422 18 162677 18 162933 18 163189 18 163444 19 163700 19 163955 20 164211 19 164466 20 164722 19 164956 3 164977 20 165210 11 165233 20 165464 18 165488 20 165719 23 165744 20 165975 45 166230 46 166486 46 166742 45 166997 46 167253 46 167509 46 167765 46 168020 47 168276 46 168532 46 168787 47 169043 47 169298 48 169553 49 169809 49 170065 49 170321 49 170577 49 170833 49 171090 48 171346 48 171602 48 171858 48 172114 49 172370 49 172626 49 172882 49 173138 49 173395 48 173651 49 173907 49 174163 49 174419 49 174676 48 174932 48 175188 49 175444 49 175701 48 175957 48 176213 47 176470 46 176726 46 176982 45 177238 45 177495 44 177751 43 178007 43 178263 43 178519 42 178775 42 179032 41 179288 40 179544 40 179801 39 180057 38 180314 37 180570 37 180827 35 181083 35 181340 34 181596 34 181853 33 182110 32 182367 31 182624 31 182881 30 183138 29 183395 28 183651 28 183908 27 184164 27 184421 26 184677 26 184934 25 185190 26 185446 26 185703 25 185959 25 186216 24 186472 24 186729 23 186985 23 187242 22 187498 22 187755 22 188011 22 188268 21 188524 21 188781 20 189037 20 189294 19 189551 18 189808 18 190065 17 190322 16 190579 16 190836 15 191093 15 191351 13 191608 12 191865 12 192123 10 192381 8 192638 8 192895 7 193153 6 193410 5 193666 6 193923 5 194179 6 194436 5 194692 5 194949 5 195205 5 195461 6 195718 5 195974 6 196231 5 196487 6 196744 5 197000 6', '-1']), (['3', '4'], ['122115 64 122371 190 122627 254 122883 254 123139 254 123395 254 123651 254 123907 254 124163 254 124419 254 124675 254 124931 254 125187 254 125443 254 125699 254 125955 190 126211 64 220129 32 220321 96 220513 160 220705 3552 224258 255 224514 255 224770 255 225026 255 225282 239 225538 207 225794 175 226050 143 226306 112 226562 80 226818 48 227074 16 280577 22 280833 64 281089 107 281345 149 281601 192 281857 234 282113 768 282882 255 283138 255 283394 255 283650 255 283906 255 284162 255 284418 255 284674 255 284956 229 285263 178 285570 127 285876 77 286183 26', '-1'])]\n"
     ]
    }
   ],
   "source": [
    "# here we see the X-sequence is composed of a sequence of image paths,\n",
    "# while the y-sequence is a series of RLE labels\n",
    "print(\"X: \", X_test[:2])\n",
    "print()\n",
    "print(\"y: \", y_test[:2])"
   ]
  },
  {
   "cell_type": "markdown",
   "id": "3a83b742-1c74-483d-b917-e39151ddfa45",
   "metadata": {},
   "source": [
    "#### Instantiate `SegmentationDataPipeline` class\n",
    "\n",
    "The `SegmentationDataPipeline` is a callable utility class for creating `tf.data` pipelines from `SegmentationDataset` sequences. It allows the user to specify various pipeline optimization parameters like batching, prefetching, parallel preprocessing, and shuffling. \n",
    "\n",
    "For more info, checkout the TensorFlow documentation on [Optimizing pipeline performance](https://www.tensorflow.org/guide/data_performance).\n"
   ]
  },
  {
   "cell_type": "code",
   "execution_count": null,
   "id": "24d0cb4d-8d53-4e61-8f70-de95f0d1d7e8",
   "metadata": {
    "tags": []
   },
   "outputs": [],
   "source": [
    "sdp = SegmentationDataPipeline(\n",
    "    img_shape=IMG_SHAPE,\n",
    "    label_type=\"inline\",\n",
    "    pipeline_options={\n",
    "        \"map_parallel\": tf.data.AUTOTUNE,\n",
    "        \"cache\": False,\n",
    "        \"shuffle_buffer_size\": 25,\n",
    "        \"batch_size\": 8,\n",
    "        \"prefetch\": tf.data.AUTOTUNE,\n",
    "    },\n",
    ")\n",
    "\n",
    "# create dataset pipelines\n",
    "train_dataset_inline = sdp(X_train, y_train, is_train=True)\n",
    "test_dataset_inline = sdp(X_test, y_test, is_train=False)"
   ]
  },
  {
   "cell_type": "markdown",
   "id": "efd7ddaf-74b9-434d-ba86-07fe22246efb",
   "metadata": {},
   "source": [
    "#### Inspect pipeline output\n",
    "\n",
    "The pipeline returns batches of shape:\n",
    "- X: (batch_size, height, width, 3)\n",
    "- y: (batch_size, height, width, n_channels)\n",
    "\n",
    "where n_channels is the number of defect classes + a background class. Notice our setup only utilizes two defect classes as a means to simplify the modeling problem."
   ]
  },
  {
   "cell_type": "code",
   "execution_count": 6,
   "id": "16e1b2ae-74b9-4994-ba6d-477ee6f7c9a3",
   "metadata": {},
   "outputs": [],
   "source": [
    "sample_inline = list(train_dataset_inline.take(1).as_numpy_iterator())"
   ]
  },
  {
   "cell_type": "code",
   "execution_count": 7,
   "id": "950ef9c9-4786-4b9d-af09-5bd6e28db76e",
   "metadata": {
    "tags": []
   },
   "outputs": [
    {
     "data": {
      "text/plain": [
       "((8, 256, 1600, 3), (8, 256, 1600, 3))"
      ]
     },
     "execution_count": 7,
     "metadata": {},
     "output_type": "execute_result"
    }
   ],
   "source": [
    "sample_inline[0][0].shape, sample_inline[0][1].shape"
   ]
  },
  {
   "cell_type": "code",
   "execution_count": 8,
   "id": "f87d59ce-407f-49ef-9990-acbffc411079",
   "metadata": {},
   "outputs": [
    {
     "data": {
      "text/plain": [
       "<matplotlib.image.AxesImage at 0x7f1da6ecc970>"
      ]
     },
     "execution_count": 8,
     "metadata": {},
     "output_type": "execute_result"
    },
    {
     "data": {
      "image/png": "[encoded data removed]",
      "text/plain": [
       "<Figure size 432x288 with 1 Axes>"
      ]
     },
     "metadata": {
      "needs_background": "light"
     },
     "output_type": "display_data"
    }
   ],
   "source": [
    "# plot X\n",
    "plt.imshow(sample_inline[0][0][1])"
   ]
  },
  {
   "cell_type": "code",
   "execution_count": 9,
   "id": "f84a0153-82f9-45c9-9526-f3126170582d",
   "metadata": {},
   "outputs": [
    {
     "data": {
      "image/png": "[encoded data removed]",
      "text/plain": [
       "<Figure size 432x288 with 1 Axes>"
      ]
     },
     "metadata": {},
     "output_type": "display_data"
    },
    {
     "data": {
      "image/png": "[encoded data removed]",
      "text/plain": [
       "<Figure size 432x288 with 1 Axes>"
      ]
     },
     "metadata": {},
     "output_type": "display_data"
    },
    {
     "data": {
      "image/png": "[encoded data removed]",
      "text/plain": [
       "<Figure size 432x288 with 1 Axes>"
      ]
     },
     "metadata": {},
     "output_type": "display_data"
    }
   ],
   "source": [
    "# plot y\n",
    "for i in range(sample_inline[0][1].shape[-1]):\n",
    "    fig = plt.figure()\n",
    "    plt.tick_params(\n",
    "        left=False, right=False, labelleft=False, labelbottom=False, bottom=False\n",
    "    )\n",
    "    plt.imshow(np.expand_dims(sample_inline[0][1][1][..., i], axis=-1))"
   ]
  },
  {
   "cell_type": "markdown",
   "id": "7c57c578-cc5e-4981-b8e1-d6dd8d725317",
   "metadata": {
    "tags": []
   },
   "source": [
    "### 2. Pipeline with pre-emptive preprocessing"
   ]
  },
  {
   "cell_type": "markdown",
   "id": "4f2c81c5-7558-4d39-bf1a-7227f6d8b825",
   "metadata": {},
   "source": [
    "#### Get (X, y) sequences for `tf.data` pipeline"
   ]
  },
  {
   "cell_type": "code",
   "execution_count": 10,
   "id": "b3b75e57-4035-4220-842b-9b51d75c096d",
   "metadata": {},
   "outputs": [],
   "source": [
    "# create x/y splits\n",
    "train_imgs, test_imgs = sd.train_imgs, sd.test_imgs\n",
    "\n",
    "X_train = sd.get_image_sequence(train_imgs)\n",
    "y_train = sd.get_label_sequence(train_imgs, label_type=\"preprocessed\")\n",
    "X_test = sd.get_image_sequence(test_imgs)\n",
    "y_test = sd.get_label_sequence(test_imgs, label_type=\"preprocessed\")"
   ]
  },
  {
   "cell_type": "code",
   "execution_count": 11,
   "id": "17de49ea-eed6-4b56-95f6-41f46e2c62a8",
   "metadata": {},
   "outputs": [
    {
     "name": "stdout",
     "output_type": "stream",
     "text": [
      "X:  ['../data/train_images/b2cbd553f.jpg', '../data/train_images/8d0addbbc.jpg']\n",
      "\n",
      "y:  ['../data/mask_labels/b2cbd553f.png', '../data/mask_labels/8d0addbbc.png']\n"
     ]
    }
   ],
   "source": [
    "# here see that the X-sequence is still composed of a sequence of image paths,\n",
    "# while the y-sequence is now also a series of image paths that have been previously saved out\n",
    "print(\"X: \", X_test[:2])\n",
    "print()\n",
    "print(\"y: \", y_test[:2])"
   ]
  },
  {
   "cell_type": "markdown",
   "id": "4d221392-d7f6-4367-906e-92183ba9e253",
   "metadata": {},
   "source": [
    "#### Instantiate `SegmentationDataPipeline` class"
   ]
  },
  {
   "cell_type": "code",
   "execution_count": 12,
   "id": "3cf58bc5-450c-4ac5-a188-fba1612c9c43",
   "metadata": {
    "tags": []
   },
   "outputs": [
    {
     "name": "stdout",
     "output_type": "stream",
     "text": [
      "AUGMENTING!!\n",
      "Shuffling\n",
      "Batching\n",
      "Prefetching\n",
      "Shuffling\n",
      "Batching\n",
      "Prefetching\n"
     ]
    }
   ],
   "source": [
    "sdp = SegmentationDataPipeline(\n",
    "    img_shape=IMG_SHAPE,\n",
    "    label_type=\"preprocessed\",\n",
    "    pipeline_options={\n",
    "        \"map_parallel\": tf.data.AUTOTUNE,\n",
    "        \"cache\": False,\n",
    "        \"shuffle_buffer_size\": 25,\n",
    "        \"batch_size\": 8,\n",
    "        \"prefetch\": tf.data.AUTOTUNE,\n",
    "    },\n",
    ")\n",
    "\n",
    "# create dataset pipelines\n",
    "train_dataset_pp = sdp(X_train, y_train, is_train=True)\n",
    "test_dataset_pp = sdp(X_test, y_test, is_train=False)"
   ]
  },
  {
   "cell_type": "markdown",
   "id": "ca968483-2351-45c2-bf13-8156cfd69c2b",
   "metadata": {},
   "source": [
    "#### Inspect pipeline output"
   ]
  },
  {
   "cell_type": "code",
   "execution_count": 13,
   "id": "679ac777-8fa0-474e-adfa-43f853ab28c6",
   "metadata": {},
   "outputs": [],
   "source": [
    "sample_pp = list(train_dataset_pp.take(1).as_numpy_iterator())"
   ]
  },
  {
   "cell_type": "code",
   "execution_count": 14,
   "id": "1b30aaf6-412a-45bb-8219-4abe5222bf01",
   "metadata": {},
   "outputs": [
    {
     "data": {
      "text/plain": [
       "((8, 256, 1600, 3), (8, 256, 1600, 3))"
      ]
     },
     "execution_count": 14,
     "metadata": {},
     "output_type": "execute_result"
    }
   ],
   "source": [
    "sample_pp[0][0].shape, sample_pp[0][1].shape"
   ]
  },
  {
   "cell_type": "code",
   "execution_count": 15,
   "id": "0cd94b1e-d121-426b-ae72-7adc2eeca173",
   "metadata": {},
   "outputs": [
    {
     "data": {
      "text/plain": [
       "<matplotlib.image.AxesImage at 0x7f1da7112c40>"
      ]
     },
     "execution_count": 15,
     "metadata": {},
     "output_type": "execute_result"
    },
    {
     "data": {
      "image/png": "[encoded data removed]",
      "text/plain": [
       "<Figure size 432x288 with 1 Axes>"
      ]
     },
     "metadata": {
      "needs_background": "light"
     },
     "output_type": "display_data"
    }
   ],
   "source": [
    "# plot X\n",
    "plt.imshow(sample_pp[0][0][1])"
   ]
  },
  {
   "cell_type": "code",
   "execution_count": 16,
   "id": "2764ed11-dfbf-4034-a780-c2c12fb72beb",
   "metadata": {},
   "outputs": [
    {
     "data": {
      "image/png": "[encoded data removed]",
      "text/plain": [
       "<Figure size 432x288 with 1 Axes>"
      ]
     },
     "metadata": {},
     "output_type": "display_data"
    },
    {
     "data": {
      "image/png": "[encoded data removed]",
      "text/plain": [
       "<Figure size 432x288 with 1 Axes>"
      ]
     },
     "metadata": {},
     "output_type": "display_data"
    },
    {
     "data": {
      "image/png": "[encoded data removed]",
      "text/plain": [
       "<Figure size 432x288 with 1 Axes>"
      ]
     },
     "metadata": {},
     "output_type": "display_data"
    }
   ],
   "source": [
    "# plot y\n",
    "for i in range(sample_pp[0][1].shape[-1]):\n",
    "    fig = plt.figure()\n",
    "    plt.tick_params(\n",
    "        left=False, right=False, labelleft=False, labelbottom=False, bottom=False\n",
    "    )\n",
    "    plt.imshow(np.expand_dims(sample_pp[0][1][1][..., i], axis=-1))"
   ]
  },
  {
   "cell_type": "markdown",
   "id": "ebf038d8-798b-4e94-9cd7-db3dd8a7221c",
   "metadata": {},
   "source": [
    "**Note:** We arrive at the same pipeline output regardless of which pipeline setting we use, inline or pre-emptive preprocessing"
   ]
  },
  {
   "cell_type": "markdown",
   "id": "e2b85955-92fb-415e-b73a-14771b9c0f6b",
   "metadata": {},
   "source": [
    "<a id=\"section_1\"></a>\n",
    "## Configuration for sample weighting\n",
    "\n",
    "Sample weighting is a commonly used technique in imbalanced classification problems that aims to give more weight to examples from rarely-seen classes. To apply sample weighting, we first specify sample weighting strategy as an input when initializing the `SegmentationDataset`. The class automatically calculates and saves a class weight map. Then, we use the mapping to get a sample weight sequence to provide as an argument to our `SegmentationDataPipeline` which allows the weights to be returned in the desired format for a `tf.data` pipeline.\n",
    "\n"
   ]
  },
  {
   "cell_type": "code",
   "execution_count": 17,
   "id": "2b23c413-b2d0-4055-90bf-39b1d8ece458",
   "metadata": {},
   "outputs": [
    {
     "data": {
      "text/plain": [
       "{-2: 1.038, 3: 0.9782, 4: 0.9837}"
      ]
     },
     "execution_count": 17,
     "metadata": {},
     "output_type": "execute_result"
    }
   ],
   "source": [
    "# view the class weight map that will be applied\n",
    "# see SegmentationDataset._build_class_weight_map() for more details\n",
    "sd.class_weight_map"
   ]
  },
  {
   "cell_type": "code",
   "execution_count": 18,
   "id": "0dfec922-9404-44a7-9888-fb68a97a3183",
   "metadata": {},
   "outputs": [],
   "source": [
    "# apply mapping to sequence\n",
    "train_sample_weights = sd.get_sample_weight_sequence(train_imgs)"
   ]
  },
  {
   "cell_type": "code",
   "execution_count": 19,
   "id": "0c378dab",
   "metadata": {},
   "outputs": [
    {
     "name": "stdout",
     "output_type": "stream",
     "text": [
      "AUGMENTING!!\n",
      "Shuffling\n",
      "Batching\n",
      "Prefetching\n"
     ]
    }
   ],
   "source": [
    "# pass the sample\n",
    "train_dataset_pp = sdp(\n",
    "    X_train, y_train, is_train=True, sample_weights=train_sample_weights\n",
    ")"
   ]
  },
  {
   "cell_type": "code",
   "execution_count": 20,
   "id": "f6ade26b-148e-440f-af0e-adff16702e85",
   "metadata": {},
   "outputs": [
    {
     "data": {
      "text/plain": [
       "((8, 256, 1600, 3), (8, 256, 1600, 3), (8, 1))"
      ]
     },
     "execution_count": 20,
     "metadata": {},
     "output_type": "execute_result"
    }
   ],
   "source": [
    "# view a sample\n",
    "sample_pp = list(train_dataset_pp.take(1).as_numpy_iterator())\n",
    "sample_pp[0][0].shape, sample_pp[0][1].shape, sample_pp[0][2].shape"
   ]
  },
  {
   "cell_type": "markdown",
   "id": "8db0d6a8-2812-4fa2-b3ab-4498ac1651b2",
   "metadata": {},
   "source": [
    "**Note** - here we see that there is a third data object returned by a pipeline. This is a tensor of sample weights for each sample in the batch."
   ]
  },
  {
   "cell_type": "markdown",
   "id": "bf9f400b-6126-4f61-9e02-88bf8180f58f",
   "metadata": {},
   "source": [
    "**If this documentation includes code, including but not limited to, code examples, Cloudera makes this available to you under the terms of the Apache License, Version 2.0, including any required notices. A copy of the Apache License Version 2.0 can be found [here](https://opensource.org/licenses/Apache-2.0).**"
   ]
  }
 ],
 "metadata": {
  "kernelspec": {
   "display_name": "Python 3 (ipykernel)",
   "language": "python",
   "name": "python3"
  },
  "language_info": {
   "codemirror_mode": {
    "name": "ipython",
    "version": 3
   },
   "file_extension": ".py",
   "mimetype": "text/x-python",
   "name": "python",
   "nbconvert_exporter": "python",
   "pygments_lexer": "ipython3",
   "version": "3.9.11"
  },
  "vscode": {
   "interpreter": {
    "hash": "949777d72b0d2535278d3dc13498b2535136f6dfe0678499012e853ee9abcab1"
   }
  }
 },
 "nbformat": 4,
 "nbformat_minor": 5
}
