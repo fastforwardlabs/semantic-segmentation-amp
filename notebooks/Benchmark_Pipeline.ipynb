{
 "cells": [
  {
   "cell_type": "markdown",
   "id": "ce37cb02-0072-4b07-b270-6e0162017fbf",
   "metadata": {},
   "source": [
    "# Pipeline Configuration Benchmarking "
   ]
  },
  {
   "cell_type": "code",
   "execution_count": 1,
   "id": "4fb64b8d-24af-407d-aabf-6b9b15aedc76",
   "metadata": {},
   "outputs": [],
   "source": [
    "import time\n",
    "\n",
    "import tensorflow as tf\n",
    "import matplotlib.pyplot as plt\n",
    "\n",
    "from src.dataset import SegmentationDataset\n",
    "from src.data_pipeline import SegmentationDataPipeline\n",
    "\n",
    "\n",
    "%load_ext lab_black\n",
    "%load_ext autoreload\n",
    "%autoreload 2"
   ]
  },
  {
   "cell_type": "code",
   "execution_count": 2,
   "id": "b8d556d6-be3c-4905-9359-895cad9c8ae6",
   "metadata": {},
   "outputs": [],
   "source": [
    "def show(image, label):\n",
    "    fig, axs = plt.subplots(5, figsize=(20, 15))\n",
    "\n",
    "    axs[0].imshow(image / 255)\n",
    "    axs[0].set_title(\"Raw Image\")\n",
    "    axs[0].axis(\"off\")\n",
    "\n",
    "    for i in range(4):\n",
    "        axs[i + 1].imshow(label[0][..., i])\n",
    "        axs[i + 1].set_title(f\"Mask - Class #{i+1}\")\n",
    "        axs[i + 1].axis(\"off\")"
   ]
  },
  {
   "cell_type": "markdown",
   "id": "8b992c48-64aa-4f82-8037-7096f0bdfc34",
   "metadata": {},
   "source": [
    "### Initialize Dataset"
   ]
  },
  {
   "cell_type": "code",
   "execution_count": 3,
   "id": "afb394b8-4eb6-4dd2-b699-f5e38cd13bb6",
   "metadata": {},
   "outputs": [],
   "source": [
    "IMG_SHAPE = (256, 1600)\n",
    "ANNOTATIONS_PATH = \"../data/train.csv\"\n",
    "TRAIN_IMG_PATH = \"../data/train_images/\"\n",
    "\n",
    "# instantiate dataset\n",
    "sd = SegmentationDataset(\n",
    "    label_file=ANNOTATIONS_PATH, img_dir_path=TRAIN_IMG_PATH, img_shape=IMG_SHAPE\n",
    ")"
   ]
  },
  {
   "cell_type": "markdown",
   "id": "c642bbfb-c1b2-4a71-9f92-ab7ebc057211",
   "metadata": {
    "tags": []
   },
   "source": [
    "### Pipeline with inline preprocessing"
   ]
  },
  {
   "cell_type": "code",
   "execution_count": 4,
   "id": "88f1fb7d-0693-42e4-a1a0-419eba58c1ab",
   "metadata": {},
   "outputs": [],
   "source": [
    "# create train/test & x/y splits\n",
    "train_imgs, test_imgs = sd.get_train_test_split(test_size=0.2)\n",
    "X_train, y_train = sd.get_image_sequence(train_imgs), sd.get_label_sequence(\n",
    "    train_imgs, label_type=\"inline\"\n",
    ")\n",
    "X_test, y_test = sd.get_image_sequence(test_imgs), sd.get_label_sequence(\n",
    "    test_imgs, label_type=\"inline\"\n",
    ")"
   ]
  },
  {
   "cell_type": "code",
   "execution_count": 5,
   "id": "24d0cb4d-8d53-4e61-8f70-de95f0d1d7e8",
   "metadata": {
    "tags": []
   },
   "outputs": [
    {
     "name": "stdout",
     "output_type": "stream",
     "text": [
      "img: <class 'list'> 10054\n",
      "label: <class 'list'> 10054\n"
     ]
    },
    {
     "name": "stderr",
     "output_type": "stream",
     "text": [
      "2022-10-04 15:14:47.933093: I tensorflow/stream_executor/cuda/cuda_gpu_executor.cc:936] successful NUMA node read from SysFS had negative value (-1), but there must be at least one NUMA node, so returning NUMA node zero\n",
      "2022-10-04 15:14:48.091540: I tensorflow/stream_executor/cuda/cuda_gpu_executor.cc:936] successful NUMA node read from SysFS had negative value (-1), but there must be at least one NUMA node, so returning NUMA node zero\n",
      "2022-10-04 15:14:48.094538: I tensorflow/stream_executor/cuda/cuda_gpu_executor.cc:936] successful NUMA node read from SysFS had negative value (-1), but there must be at least one NUMA node, so returning NUMA node zero\n",
      "2022-10-04 15:14:48.102287: I tensorflow/stream_executor/cuda/cuda_gpu_executor.cc:936] successful NUMA node read from SysFS had negative value (-1), but there must be at least one NUMA node, so returning NUMA node zero\n",
      "2022-10-04 15:14:48.103943: I tensorflow/stream_executor/cuda/cuda_gpu_executor.cc:936] successful NUMA node read from SysFS had negative value (-1), but there must be at least one NUMA node, so returning NUMA node zero\n",
      "2022-10-04 15:14:48.105535: I tensorflow/stream_executor/cuda/cuda_gpu_executor.cc:936] successful NUMA node read from SysFS had negative value (-1), but there must be at least one NUMA node, so returning NUMA node zero\n",
      "2022-10-04 15:14:49.426066: I tensorflow/stream_executor/cuda/cuda_gpu_executor.cc:936] successful NUMA node read from SysFS had negative value (-1), but there must be at least one NUMA node, so returning NUMA node zero\n",
      "2022-10-04 15:14:49.427270: I tensorflow/stream_executor/cuda/cuda_gpu_executor.cc:936] successful NUMA node read from SysFS had negative value (-1), but there must be at least one NUMA node, so returning NUMA node zero\n",
      "2022-10-04 15:14:49.428370: I tensorflow/stream_executor/cuda/cuda_gpu_executor.cc:936] successful NUMA node read from SysFS had negative value (-1), but there must be at least one NUMA node, so returning NUMA node zero\n",
      "2022-10-04 15:14:49.429451: I tensorflow/core/common_runtime/gpu/gpu_device.cc:1525] Created device /job:localhost/replica:0/task:0/device:GPU:0 with 30989 MB memory:  -> device: 0, name: Tesla V100-PCIE-32GB, pci bus id: 0000:00:09.0, compute capability: 7.0\n"
     ]
    },
    {
     "name": "stdout",
     "output_type": "stream",
     "text": [
      "Batching\n"
     ]
    }
   ],
   "source": [
    "# instantiate dataset\n",
    "sdp = SegmentationDataPipeline(\n",
    "    img_shape=IMG_SHAPE,\n",
    "    label_type=\"inline\",\n",
    "    pipeline_options={\n",
    "        \"map_parallel\": None,  # off if None\n",
    "        \"cache\": False,\n",
    "        \"shuffle_buffer_size\": False,  # off if False\n",
    "        \"batch_size\": 8,\n",
    "        \"prefetch\": False,  # off if False\n",
    "    },\n",
    ")\n",
    "\n",
    "# create dataset pipelines\n",
    "train_dataset_inline = sdp(X_train, y_train)"
   ]
  },
  {
   "cell_type": "code",
   "execution_count": 6,
   "id": "16e1b2ae-74b9-4994-ba6d-477ee6f7c9a3",
   "metadata": {},
   "outputs": [],
   "source": [
    "sample_inline = list(train_dataset_inline.take(1).as_numpy_iterator())"
   ]
  },
  {
   "cell_type": "code",
   "execution_count": 7,
   "id": "0008bf7b-489f-465c-a29d-501bd4585a85",
   "metadata": {},
   "outputs": [
    {
     "data": {
      "text/plain": [
       "((8, 256, 1600, 3), (8, 256, 1600, 4))"
      ]
     },
     "execution_count": 7,
     "metadata": {},
     "output_type": "execute_result"
    }
   ],
   "source": [
    "sample_inline[0][0].shape, sample_inline[0][1].shape"
   ]
  },
  {
   "cell_type": "markdown",
   "id": "7c57c578-cc5e-4981-b8e1-d6dd8d725317",
   "metadata": {
    "tags": []
   },
   "source": [
    "### Pipeline with preemptive preprocessing"
   ]
  },
  {
   "cell_type": "code",
   "execution_count": 8,
   "id": "b3b75e57-4035-4220-842b-9b51d75c096d",
   "metadata": {},
   "outputs": [],
   "source": [
    "# create train/test & x/y splits\n",
    "train_imgs, test_imgs = sd.get_train_test_split(test_size=0.2)\n",
    "X_train, y_train = sd.get_image_sequence(train_imgs), sd.get_label_sequence(\n",
    "    train_imgs, label_type=\"preprocessed\"\n",
    ")\n",
    "X_test, y_test = sd.get_image_sequence(test_imgs), sd.get_label_sequence(\n",
    "    test_imgs, label_type=\"preprocessed\"\n",
    ")"
   ]
  },
  {
   "cell_type": "code",
   "execution_count": 9,
   "id": "3cf58bc5-450c-4ac5-a188-fba1612c9c43",
   "metadata": {
    "tags": []
   },
   "outputs": [
    {
     "name": "stdout",
     "output_type": "stream",
     "text": [
      "img: <class 'list'> 10054\n",
      "label: <class 'list'> 10054\n",
      "Batching\n"
     ]
    }
   ],
   "source": [
    "# instantiate dataset\n",
    "sdp = SegmentationDataPipeline(\n",
    "    img_shape=IMG_SHAPE,\n",
    "    label_type=\"preprocessed\",\n",
    "    pipeline_options={\n",
    "        \"map_parallel\": None,  # off if None\n",
    "        \"cache\": False,\n",
    "        \"shuffle_buffer_size\": False,  # off if False\n",
    "        \"batch_size\": 8,\n",
    "        \"prefetch\": False,  # off if False\n",
    "    },\n",
    ")\n",
    "\n",
    "# create dataset pipelines\n",
    "train_dataset_pp = sdp(X_train, y_train)"
   ]
  },
  {
   "cell_type": "code",
   "execution_count": 10,
   "id": "efba86b9-2e8b-4c9a-a2ea-e227b504cb21",
   "metadata": {},
   "outputs": [],
   "source": [
    "sample_pp = list(train_dataset_pp.take(1).as_numpy_iterator())"
   ]
  },
  {
   "cell_type": "code",
   "execution_count": 11,
   "id": "883b6370-564a-45e5-bd13-1ef737fdf645",
   "metadata": {},
   "outputs": [
    {
     "data": {
      "text/plain": [
       "((8, 256, 1600, 3), (8, 256, 1600, 4))"
      ]
     },
     "execution_count": 11,
     "metadata": {},
     "output_type": "execute_result"
    }
   ],
   "source": [
    "sample_pp[0][0].shape, sample_pp[0][1].shape"
   ]
  },
  {
   "cell_type": "markdown",
   "id": "6408ce28-c297-4f47-9493-dcbeff659b9c",
   "metadata": {},
   "source": [
    "### Plot them!\n",
    "\n",
    "Both pipelines now return consisten"
   ]
  },
  {
   "cell_type": "code",
   "execution_count": null,
   "id": "69a529da-c177-4210-bd1a-01681d34d53c",
   "metadata": {},
   "outputs": [],
   "source": []
  },
  {
   "cell_type": "code",
   "execution_count": null,
   "id": "13e3868a-85da-4272-94af-a87e4309476f",
   "metadata": {},
   "outputs": [],
   "source": []
  },
  {
   "cell_type": "code",
   "execution_count": null,
   "id": "90660fef-0969-4293-985e-8881296a7ac6",
   "metadata": {},
   "outputs": [],
   "source": []
  },
  {
   "cell_type": "code",
   "execution_count": null,
   "id": "bef32b30-9236-40b8-85ff-0f880023aebb",
   "metadata": {},
   "outputs": [],
   "source": []
  },
  {
   "cell_type": "markdown",
   "id": "eba39ace-e8dd-4748-949c-038327f887d2",
   "metadata": {},
   "source": [
    "## Benchmarking"
   ]
  },
  {
   "cell_type": "markdown",
   "id": "86f22fa5-9c88-4e4f-8d16-1fb65ad32427",
   "metadata": {},
   "source": [
    "## `tf.data` pipeline\n",
    "\n",
    "Benchmark the following scenarios:\n",
    "\n",
    "0. Impact of cache, batch, prefetch?\n",
    "1. Masks are RLE encoded in csv file (i.e. tf.data pipeline has to transform into Tensors)\n",
    "2. Masks and images are pre-saved as Tensors (i.e. all image masks are converted to tf.records prior)\n",
    "3. Masks/images are loaded using `keras.utils.Sequence` (ex. https://keras.io/examples/vision/oxford_pets_image_segmentation/)\n",
    "4. ImageDataGenerator in keras...\n",
    "5. Using np_func / py_func for RLE decoding vs. raw TensorFlow functions"
   ]
  },
  {
   "cell_type": "code",
   "execution_count": 16,
   "id": "e8030f7c-b80f-4311-82e3-27f323b5171e",
   "metadata": {},
   "outputs": [],
   "source": [
    "def benchmark_dataloading(dataset, n_epochs):\n",
    "    start = time.time()\n",
    "    for epoch in range(n_epochs):\n",
    "        for i, sample in enumerate(dataset):\n",
    "            time.sleep(0.01)  # imitate train step\n",
    "            pass\n",
    "    end = time.time()\n",
    "    print(\"Execution time:\", end - start)"
   ]
  },
  {
   "cell_type": "code",
   "execution_count": 17,
   "id": "fcf9cec1-a696-49ab-8137-65ae172b47d1",
   "metadata": {},
   "outputs": [
    {
     "name": "stdout",
     "output_type": "stream",
     "text": [
      "Execution time: 310.7924337387085\n"
     ]
    }
   ],
   "source": [
    "# batch only\n",
    "benchmark_dataloading(train_dataset, 1)"
   ]
  },
  {
   "cell_type": "code",
   "execution_count": null,
   "id": "2ffa5708-2727-445f-bffc-6c44df780d0f",
   "metadata": {},
   "outputs": [],
   "source": []
  },
  {
   "cell_type": "code",
   "execution_count": null,
   "id": "b1c6b960-a238-49c0-881c-ff625fbaf6ca",
   "metadata": {},
   "outputs": [],
   "source": []
  },
  {
   "cell_type": "code",
   "execution_count": 8,
   "id": "0ae70a9b-3e1b-40bb-adb7-2fea0f096408",
   "metadata": {},
   "outputs": [
    {
     "name": "stdout",
     "output_type": "stream",
     "text": [
      "Execution time: 11.809537172317505\n"
     ]
    }
   ],
   "source": [
    "# batch only\n",
    "benchmark_dataloading(train_dataset, 5)"
   ]
  },
  {
   "cell_type": "code",
   "execution_count": 13,
   "id": "2a437be5-16fa-441d-84eb-27a1f4ae0b9b",
   "metadata": {},
   "outputs": [
    {
     "name": "stdout",
     "output_type": "stream",
     "text": [
      "Execution time: 3.296800374984741\n"
     ]
    }
   ],
   "source": [
    "# cache and batch\n",
    "benchmark_dataloading(train_dataset, 5)"
   ]
  },
  {
   "cell_type": "code",
   "execution_count": 16,
   "id": "0f34f5e5-f3d0-484e-9cd2-713881068653",
   "metadata": {},
   "outputs": [
    {
     "name": "stdout",
     "output_type": "stream",
     "text": [
      "Execution time: 3.540153741836548\n"
     ]
    }
   ],
   "source": [
    "# batch, cache, prefetch\n",
    "benchmark_dataloading(train_dataset, 5)"
   ]
  },
  {
   "cell_type": "code",
   "execution_count": null,
   "id": "fcfa82f9-f04b-40db-9b9f-957cc249328b",
   "metadata": {},
   "outputs": [],
   "source": []
  }
 ],
 "metadata": {
  "kernelspec": {
   "display_name": "Python 3 (ipykernel)",
   "language": "python",
   "name": "python3"
  },
  "language_info": {
   "codemirror_mode": {
    "name": "ipython",
    "version": 3
   },
   "file_extension": ".py",
   "mimetype": "text/x-python",
   "name": "python",
   "nbconvert_exporter": "python",
   "pygments_lexer": "ipython3",
   "version": "3.9.11"
  }
 },
 "nbformat": 4,
 "nbformat_minor": 5
}
