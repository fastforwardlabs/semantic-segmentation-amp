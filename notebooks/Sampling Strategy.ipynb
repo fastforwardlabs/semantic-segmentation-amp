{
 "cells": [
  {
   "cell_type": "markdown",
   "metadata": {},
   "source": [
    "# Sampling Strategy"
   ]
  },
  {
   "cell_type": "code",
   "execution_count": 5,
   "metadata": {},
   "outputs": [
    {
     "name": "stdout",
     "output_type": "stream",
     "text": [
      "The lab_black extension is already loaded. To reload it, use:\n",
      "  %reload_ext lab_black\n",
      "The autoreload extension is already loaded. To reload it, use:\n",
      "  %reload_ext autoreload\n"
     ]
    }
   ],
   "source": [
    "import os\n",
    "import datetime\n",
    "\n",
    "import numpy as np\n",
    "import tensorflow as tf\n",
    "from sklearn.model_selection import train_test_split\n",
    "from tensorflow.keras import layers\n",
    "from numba import cuda\n",
    "\n",
    "from src.model import unet_model\n",
    "from src.dataset import SegmentationDataset\n",
    "from src.data_pipeline import SegmentationDataPipeline\n",
    "from src.model_utils import (\n",
    "    tversky,\n",
    "    tversky_loss,\n",
    "    tversky_axis,\n",
    "    tversky_loss_axis,\n",
    ")\n",
    "\n",
    "\n",
    "%load_ext lab_black\n",
    "%load_ext autoreload\n",
    "%autoreload 2"
   ]
  },
  {
   "cell_type": "code",
   "execution_count": 127,
   "metadata": {},
   "outputs": [
    {
     "name": "stdout",
     "output_type": "stream",
     "text": [
      "{-2: 1.1604, -1: 0.4045, 1: 0.7517, 2: 2.2761, 3: 0.4069, 4: 1.0004}\n",
      "Old Class Distribution: \n",
      " -2     384\n",
      "-1    5312\n",
      " 1     692\n",
      " 2     176\n",
      " 3    4283\n",
      " 4     464\n",
      "dtype: int64\n",
      "New Class Distribution: \n",
      " -2     384\n",
      "-1    5312\n",
      " 1    5312\n",
      " 2    5312\n",
      " 3    5312\n",
      " 4    5312\n",
      "dtype: int64\n"
     ]
    }
   ],
   "source": [
    "IMG_SHAPE = (256, 1600)\n",
    "EPOCHS = 10\n",
    "BATCH_SIZE = 8\n",
    "ANNOTATIONS_PATH = \"../data/train.csv\"\n",
    "TRAIN_IMG_PATH = \"../data/train_images/\"\n",
    "LOSSES = {\n",
    "    \"tversky_loss\": tversky_loss,\n",
    "    \"tversky_loss_axis\": tversky_loss_axis,\n",
    "}\n",
    "METRICS = {\n",
    "    \"tversky\": tversky,\n",
    "    \"tversky_axis\": tversky_axis,\n",
    "}\n",
    "\n",
    "\n",
    "# instantiate dataset and pipelne\n",
    "sd = SegmentationDataset(\n",
    "    label_file=ANNOTATIONS_PATH,\n",
    "    img_dir_path=TRAIN_IMG_PATH,\n",
    "    img_shape=IMG_SHAPE,\n",
    ")\n",
    "\n",
    "# create train/test & x/y splits\n",
    "# train_imgs, test_imgs = sd.get_train_test_split(test_size=0.2)\n",
    "train_imgs = sd.train_imgs\n",
    "test_imgs = sd.test_imgs\n",
    "\n",
    "# oversample train images\n",
    "train_imgs = sd.oversample_train_set(train_imgs)\n",
    "\n",
    "# get stratified sample\n",
    "_, train_imgs = train_test_split(\n",
    "    sd.imgid_to_classid_mapping[train_imgs],\n",
    "    test_size=0.25,\n",
    "    random_state=42,\n",
    "    shuffle=True,\n",
    "    stratify=sd.imgid_to_classid_mapping[train_imgs],\n",
    ")\n",
    "_, test_imgs = train_test_split(\n",
    "    sd.imgid_to_classid_mapping[test_imgs],\n",
    "    test_size=0.25,\n",
    "    random_state=42,\n",
    "    shuffle=True,\n",
    "    stratify=sd.imgid_to_classid_mapping[test_imgs],\n",
    ")\n",
    "train_imgs = list(train_imgs.index)\n",
    "test_imgs = list(test_imgs.index)\n",
    "\n",
    "X_train = sd.get_image_sequence(train_imgs)\n",
    "y_train = sd.get_label_sequence(train_imgs, label_type=\"preprocessed\")\n",
    "X_test = sd.get_image_sequence(test_imgs)\n",
    "y_test = sd.get_label_sequence(test_imgs, label_type=\"preprocessed\")"
   ]
  }
 ],
 "metadata": {
  "kernelspec": {
   "display_name": "Python 3 (ipykernel)",
   "language": "python",
   "name": "python3"
  },
  "language_info": {
   "codemirror_mode": {
    "name": "ipython",
    "version": 3
   },
   "file_extension": ".py",
   "mimetype": "text/x-python",
   "name": "python",
   "nbconvert_exporter": "python",
   "pygments_lexer": "ipython3",
   "version": "3.9.11"
  },
  "vscode": {
   "interpreter": {
    "hash": "949777d72b0d2535278d3dc13498b2535136f6dfe0678499012e853ee9abcab1"
   }
  }
 },
 "nbformat": 4,
 "nbformat_minor": 4
}
